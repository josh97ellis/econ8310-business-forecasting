{
 "cells": [
  {
   "attachments": {},
   "cell_type": "markdown",
   "metadata": {},
   "source": [
    "## What is Forecasting?\n",
    "Forecast: To predict or estimate (a future event or trend)\n",
    "- Predicting weather patterns\n",
    "- Estimate the quantity of stock required during a certain time-span\n",
    "- Generally, determine the most likely outcome of a stochastic process based on previous events\n",
    "- **Learn from patterns**\n",
    "- Forecasting is just fancing trendlines within high dimensions"
   ]
  },
  {
   "attachments": {},
   "cell_type": "markdown",
   "metadata": {},
   "source": [
    "### Quick Forecast"
   ]
  },
  {
   "cell_type": "code",
   "execution_count": 7,
   "metadata": {},
   "outputs": [
    {
     "data": {
      "application/vnd.plotly.v1+json": {
       "config": {
        "plotlyServerURL": "https://plot.ly"
       },
       "data": [
        {
         "hovertemplate": "x=%{x}<br>y=%{y}<extra></extra>",
         "legendgroup": "",
         "marker": {
          "color": "#636efa",
          "symbol": "circle"
         },
         "mode": "markers",
         "name": "",
         "orientation": "v",
         "showlegend": false,
         "type": "scatter",
         "x": [
          -1,
          -0.98,
          -0.96,
          -0.94,
          -0.92,
          -0.9,
          -0.88,
          -0.86,
          -0.84,
          -0.8200000000000001,
          -0.8,
          -0.78,
          -0.76,
          -0.74,
          -0.72,
          -0.7,
          -0.6799999999999999,
          -0.6599999999999999,
          -0.64,
          -0.62,
          -0.6,
          -0.5800000000000001,
          -0.56,
          -0.54,
          -0.52,
          -0.5,
          -0.48,
          -0.45999999999999996,
          -0.43999999999999995,
          -0.42000000000000004,
          -0.4,
          -0.38,
          -0.36,
          -0.33999999999999997,
          -0.31999999999999995,
          -0.29999999999999993,
          -0.28,
          -0.26,
          -0.24,
          -0.21999999999999997,
          -0.19999999999999996,
          -0.17999999999999994,
          -0.16000000000000003,
          -0.14,
          -0.12,
          -0.09999999999999998,
          -0.07999999999999996,
          -0.05999999999999994,
          -0.040000000000000036,
          -0.020000000000000018,
          0,
          0.020000000000000018,
          0.040000000000000036,
          0.06000000000000005,
          0.08000000000000007,
          0.10000000000000009,
          0.1200000000000001,
          0.14000000000000012,
          0.15999999999999992,
          0.17999999999999994,
          0.19999999999999996,
          0.21999999999999997,
          0.24,
          0.26,
          0.28,
          0.30000000000000004,
          0.32000000000000006,
          0.3400000000000001,
          0.3600000000000001,
          0.3800000000000001,
          0.40000000000000013,
          0.41999999999999993,
          0.43999999999999995,
          0.45999999999999996,
          0.48,
          0.5,
          0.52,
          0.54,
          0.56,
          0.5800000000000001,
          0.6000000000000001,
          0.6200000000000001,
          0.6400000000000001,
          0.6600000000000001,
          0.6799999999999999,
          0.7,
          0.72,
          0.74,
          0.76,
          0.78,
          0.8,
          0.8200000000000001,
          0.8400000000000001,
          0.8600000000000001,
          0.8800000000000001,
          0.9000000000000001,
          0.9199999999999999,
          0.94,
          0.96,
          0.98,
          1
         ],
         "xaxis": "x",
         "y": [
          -1.0402705489627908,
          -0.08420157094381708,
          -1.3833331414829475,
          -1.4113440304134606,
          -0.7918431791427176,
          -1.2789724304604984,
          -0.24620846350178938,
          -0.02502721982642364,
          -1.4505801051999911,
          -0.6371593470310011,
          -1.5141129848247257,
          0.24894188189619304,
          -0.4945267454029154,
          -1.3907698358716785,
          0.10353596277548127,
          -0.784295382298283,
          -1.2538802971721241,
          0.21018202398033914,
          -0.5928293395623414,
          0.1507934236537778,
          0.2369944512088269,
          -0.20658096969702489,
          -0.6125431628112403,
          -0.4724551319488095,
          -0.7430781193014484,
          -0.5883887492562987,
          -0.9242018385071806,
          0.23283617648163513,
          0.3561393709877707,
          0.3333483348538513,
          1.1905807386829448,
          0.06818687588873451,
          0.02436950130288751,
          0.48439756733359984,
          -0.5982400673210453,
          0.8522595001895492,
          1.1548214757494097,
          0.5729229109920861,
          1.1308612823036837,
          -0.09413008814778778,
          1.2520152492387817,
          0.825056056975765,
          0.39424200779657004,
          0.8676611435677777,
          1.342700374114893,
          0.554181954141372,
          0.4601123847338975,
          0.9534945055391051,
          1.194323418738203,
          0.41160334775299834,
          0.972766011482439,
          0.06411707924477539,
          0.932650490387503,
          0.7356516820824148,
          1.8585066310396823,
          1.8891873983818734,
          2.0883977105944598,
          0.49998830932852933,
          1.0022397413382118,
          0.6531777743707785,
          0.8347335968658955,
          1.1509849191893797,
          2.073114388120774,
          0.9763090700954209,
          0.8861003333613813,
          1.6250449374237301,
          2.2505504275124357,
          2.036321991954914,
          1.15937451360987,
          0.8518584959777007,
          2.3206358356539796,
          2.3755550582128278,
          2.5667028313779583,
          2.91161818340896,
          2.140579147211491,
          1.5723528239972266,
          2.746942294861485,
          2.229305894596581,
          1.6057506272894932,
          1.8952808476941994,
          1.5893573196972028,
          2.7319249019196485,
          2.7868293908331774,
          1.4879322456424677,
          2.7105179352287125,
          2.2932288919369013,
          2.57940624535098,
          1.7178388291494877,
          2.6560532053530888,
          3.48712292830348,
          3.4767290157528885,
          3.6207616800933935,
          2.9628043840848193,
          2.0460963524309914,
          1.8115634827087097,
          2.224118457605563,
          2.8205345029916478,
          2.4350078423058017,
          3.190362477686988,
          3.6746444803874883,
          3.661573079834625
         ],
         "yaxis": "y"
        },
        {
         "hovertemplate": "<b>OLS trendline</b><br>y = 2.0928 * x + 0.988691<br>R<sup>2</sup>=0.823377<br><br>x=%{x}<br>y=%{y} <b>(trend)</b><extra></extra>",
         "legendgroup": "",
         "marker": {
          "color": "#636efa",
          "symbol": "circle"
         },
         "mode": "lines",
         "name": "",
         "showlegend": false,
         "type": "scatter",
         "x": [
          -1,
          -0.98,
          -0.96,
          -0.94,
          -0.92,
          -0.9,
          -0.88,
          -0.86,
          -0.84,
          -0.8200000000000001,
          -0.8,
          -0.78,
          -0.76,
          -0.74,
          -0.72,
          -0.7,
          -0.6799999999999999,
          -0.6599999999999999,
          -0.64,
          -0.62,
          -0.6,
          -0.5800000000000001,
          -0.56,
          -0.54,
          -0.52,
          -0.5,
          -0.48,
          -0.45999999999999996,
          -0.43999999999999995,
          -0.42000000000000004,
          -0.4,
          -0.38,
          -0.36,
          -0.33999999999999997,
          -0.31999999999999995,
          -0.29999999999999993,
          -0.28,
          -0.26,
          -0.24,
          -0.21999999999999997,
          -0.19999999999999996,
          -0.17999999999999994,
          -0.16000000000000003,
          -0.14,
          -0.12,
          -0.09999999999999998,
          -0.07999999999999996,
          -0.05999999999999994,
          -0.040000000000000036,
          -0.020000000000000018,
          0,
          0.020000000000000018,
          0.040000000000000036,
          0.06000000000000005,
          0.08000000000000007,
          0.10000000000000009,
          0.1200000000000001,
          0.14000000000000012,
          0.15999999999999992,
          0.17999999999999994,
          0.19999999999999996,
          0.21999999999999997,
          0.24,
          0.26,
          0.28,
          0.30000000000000004,
          0.32000000000000006,
          0.3400000000000001,
          0.3600000000000001,
          0.3800000000000001,
          0.40000000000000013,
          0.41999999999999993,
          0.43999999999999995,
          0.45999999999999996,
          0.48,
          0.5,
          0.52,
          0.54,
          0.56,
          0.5800000000000001,
          0.6000000000000001,
          0.6200000000000001,
          0.6400000000000001,
          0.6600000000000001,
          0.6799999999999999,
          0.7,
          0.72,
          0.74,
          0.76,
          0.78,
          0.8,
          0.8200000000000001,
          0.8400000000000001,
          0.8600000000000001,
          0.8800000000000001,
          0.9000000000000001,
          0.9199999999999999,
          0.94,
          0.96,
          0.98,
          1
         ],
         "xaxis": "x",
         "y": [
          -1.104112762624392,
          -1.062256686407992,
          -1.0204006101915921,
          -0.9785445339751921,
          -0.9366884577587924,
          -0.8948323815423922,
          -0.8529763053259922,
          -0.8111202291095923,
          -0.7692641528931923,
          -0.7274080766767925,
          -0.6855520004603926,
          -0.6436959242439926,
          -0.6018398480275926,
          -0.5599837718111924,
          -0.5181276955947924,
          -0.47627161937839246,
          -0.4344155431619925,
          -0.3925594669455925,
          -0.35070339072919277,
          -0.3088473145127928,
          -0.2669912382963928,
          -0.22513516207999307,
          -0.18327908586359287,
          -0.1414230096471929,
          -0.09956693343079293,
          -0.05771085721439295,
          -0.01585478099799298,
          0.026001295218407106,
          0.06785737143480708,
          0.10971344765120683,
          0.1515695238676068,
          0.19342560008400678,
          0.23528167630040686,
          0.27713775251680683,
          0.3189938287332068,
          0.3608499049496068,
          0.40270598116600664,
          0.4445620573824066,
          0.4864181335988066,
          0.5282742098152067,
          0.5701302860316066,
          0.6119863622480066,
          0.6538424384644064,
          0.6956985146808063,
          0.7375545908972063,
          0.7794106671136064,
          0.8212667433300064,
          0.8631228195464064,
          0.9049788957628062,
          0.9468349719792062,
          0.9886910481956062,
          1.0305471244120061,
          1.072403200628406,
          1.114259276844806,
          1.1561153530612063,
          1.1979714292776062,
          1.2398275054940062,
          1.2816835817104062,
          1.3235396579268057,
          1.3653957341432057,
          1.4072518103596057,
          1.4491078865760056,
          1.4909639627924056,
          1.5328200390088056,
          1.5746761152252056,
          1.6165321914416058,
          1.6583882676580057,
          1.7002443438744057,
          1.7421004200908057,
          1.7839564963072059,
          1.8258125725236058,
          1.8676686487400054,
          1.9095247249564054,
          1.9513808011728053,
          1.9932368773892053,
          2.0350929536056053,
          2.0769490298220052,
          2.118805106038405,
          2.160661182254805,
          2.2025172584712056,
          2.244373334687605,
          2.2862294109040056,
          2.328085487120405,
          2.3699415633368055,
          2.411797639553205,
          2.4536537157696046,
          2.495509791986005,
          2.5373658682024045,
          2.579221944418805,
          2.621078020635205,
          2.662934096851605,
          2.704790173068005,
          2.746646249284405,
          2.788502325500805,
          2.8303584017172048,
          2.8722144779336047,
          2.9140705541500043,
          2.9559266303664042,
          2.9977827065828047,
          3.039638782799204,
          3.0814948590156046
         ],
         "yaxis": "y"
        }
       ],
       "layout": {
        "legend": {
         "tracegroupgap": 0
        },
        "margin": {
         "t": 60
        },
        "template": {
         "data": {
          "bar": [
           {
            "error_x": {
             "color": "#2a3f5f"
            },
            "error_y": {
             "color": "#2a3f5f"
            },
            "marker": {
             "line": {
              "color": "#E5ECF6",
              "width": 0.5
             },
             "pattern": {
              "fillmode": "overlay",
              "size": 10,
              "solidity": 0.2
             }
            },
            "type": "bar"
           }
          ],
          "barpolar": [
           {
            "marker": {
             "line": {
              "color": "#E5ECF6",
              "width": 0.5
             },
             "pattern": {
              "fillmode": "overlay",
              "size": 10,
              "solidity": 0.2
             }
            },
            "type": "barpolar"
           }
          ],
          "carpet": [
           {
            "aaxis": {
             "endlinecolor": "#2a3f5f",
             "gridcolor": "white",
             "linecolor": "white",
             "minorgridcolor": "white",
             "startlinecolor": "#2a3f5f"
            },
            "baxis": {
             "endlinecolor": "#2a3f5f",
             "gridcolor": "white",
             "linecolor": "white",
             "minorgridcolor": "white",
             "startlinecolor": "#2a3f5f"
            },
            "type": "carpet"
           }
          ],
          "choropleth": [
           {
            "colorbar": {
             "outlinewidth": 0,
             "ticks": ""
            },
            "type": "choropleth"
           }
          ],
          "contour": [
           {
            "colorbar": {
             "outlinewidth": 0,
             "ticks": ""
            },
            "colorscale": [
             [
              0,
              "#0d0887"
             ],
             [
              0.1111111111111111,
              "#46039f"
             ],
             [
              0.2222222222222222,
              "#7201a8"
             ],
             [
              0.3333333333333333,
              "#9c179e"
             ],
             [
              0.4444444444444444,
              "#bd3786"
             ],
             [
              0.5555555555555556,
              "#d8576b"
             ],
             [
              0.6666666666666666,
              "#ed7953"
             ],
             [
              0.7777777777777778,
              "#fb9f3a"
             ],
             [
              0.8888888888888888,
              "#fdca26"
             ],
             [
              1,
              "#f0f921"
             ]
            ],
            "type": "contour"
           }
          ],
          "contourcarpet": [
           {
            "colorbar": {
             "outlinewidth": 0,
             "ticks": ""
            },
            "type": "contourcarpet"
           }
          ],
          "heatmap": [
           {
            "colorbar": {
             "outlinewidth": 0,
             "ticks": ""
            },
            "colorscale": [
             [
              0,
              "#0d0887"
             ],
             [
              0.1111111111111111,
              "#46039f"
             ],
             [
              0.2222222222222222,
              "#7201a8"
             ],
             [
              0.3333333333333333,
              "#9c179e"
             ],
             [
              0.4444444444444444,
              "#bd3786"
             ],
             [
              0.5555555555555556,
              "#d8576b"
             ],
             [
              0.6666666666666666,
              "#ed7953"
             ],
             [
              0.7777777777777778,
              "#fb9f3a"
             ],
             [
              0.8888888888888888,
              "#fdca26"
             ],
             [
              1,
              "#f0f921"
             ]
            ],
            "type": "heatmap"
           }
          ],
          "heatmapgl": [
           {
            "colorbar": {
             "outlinewidth": 0,
             "ticks": ""
            },
            "colorscale": [
             [
              0,
              "#0d0887"
             ],
             [
              0.1111111111111111,
              "#46039f"
             ],
             [
              0.2222222222222222,
              "#7201a8"
             ],
             [
              0.3333333333333333,
              "#9c179e"
             ],
             [
              0.4444444444444444,
              "#bd3786"
             ],
             [
              0.5555555555555556,
              "#d8576b"
             ],
             [
              0.6666666666666666,
              "#ed7953"
             ],
             [
              0.7777777777777778,
              "#fb9f3a"
             ],
             [
              0.8888888888888888,
              "#fdca26"
             ],
             [
              1,
              "#f0f921"
             ]
            ],
            "type": "heatmapgl"
           }
          ],
          "histogram": [
           {
            "marker": {
             "pattern": {
              "fillmode": "overlay",
              "size": 10,
              "solidity": 0.2
             }
            },
            "type": "histogram"
           }
          ],
          "histogram2d": [
           {
            "colorbar": {
             "outlinewidth": 0,
             "ticks": ""
            },
            "colorscale": [
             [
              0,
              "#0d0887"
             ],
             [
              0.1111111111111111,
              "#46039f"
             ],
             [
              0.2222222222222222,
              "#7201a8"
             ],
             [
              0.3333333333333333,
              "#9c179e"
             ],
             [
              0.4444444444444444,
              "#bd3786"
             ],
             [
              0.5555555555555556,
              "#d8576b"
             ],
             [
              0.6666666666666666,
              "#ed7953"
             ],
             [
              0.7777777777777778,
              "#fb9f3a"
             ],
             [
              0.8888888888888888,
              "#fdca26"
             ],
             [
              1,
              "#f0f921"
             ]
            ],
            "type": "histogram2d"
           }
          ],
          "histogram2dcontour": [
           {
            "colorbar": {
             "outlinewidth": 0,
             "ticks": ""
            },
            "colorscale": [
             [
              0,
              "#0d0887"
             ],
             [
              0.1111111111111111,
              "#46039f"
             ],
             [
              0.2222222222222222,
              "#7201a8"
             ],
             [
              0.3333333333333333,
              "#9c179e"
             ],
             [
              0.4444444444444444,
              "#bd3786"
             ],
             [
              0.5555555555555556,
              "#d8576b"
             ],
             [
              0.6666666666666666,
              "#ed7953"
             ],
             [
              0.7777777777777778,
              "#fb9f3a"
             ],
             [
              0.8888888888888888,
              "#fdca26"
             ],
             [
              1,
              "#f0f921"
             ]
            ],
            "type": "histogram2dcontour"
           }
          ],
          "mesh3d": [
           {
            "colorbar": {
             "outlinewidth": 0,
             "ticks": ""
            },
            "type": "mesh3d"
           }
          ],
          "parcoords": [
           {
            "line": {
             "colorbar": {
              "outlinewidth": 0,
              "ticks": ""
             }
            },
            "type": "parcoords"
           }
          ],
          "pie": [
           {
            "automargin": true,
            "type": "pie"
           }
          ],
          "scatter": [
           {
            "marker": {
             "colorbar": {
              "outlinewidth": 0,
              "ticks": ""
             }
            },
            "type": "scatter"
           }
          ],
          "scatter3d": [
           {
            "line": {
             "colorbar": {
              "outlinewidth": 0,
              "ticks": ""
             }
            },
            "marker": {
             "colorbar": {
              "outlinewidth": 0,
              "ticks": ""
             }
            },
            "type": "scatter3d"
           }
          ],
          "scattercarpet": [
           {
            "marker": {
             "colorbar": {
              "outlinewidth": 0,
              "ticks": ""
             }
            },
            "type": "scattercarpet"
           }
          ],
          "scattergeo": [
           {
            "marker": {
             "colorbar": {
              "outlinewidth": 0,
              "ticks": ""
             }
            },
            "type": "scattergeo"
           }
          ],
          "scattergl": [
           {
            "marker": {
             "colorbar": {
              "outlinewidth": 0,
              "ticks": ""
             }
            },
            "type": "scattergl"
           }
          ],
          "scattermapbox": [
           {
            "marker": {
             "colorbar": {
              "outlinewidth": 0,
              "ticks": ""
             }
            },
            "type": "scattermapbox"
           }
          ],
          "scatterpolar": [
           {
            "marker": {
             "colorbar": {
              "outlinewidth": 0,
              "ticks": ""
             }
            },
            "type": "scatterpolar"
           }
          ],
          "scatterpolargl": [
           {
            "marker": {
             "colorbar": {
              "outlinewidth": 0,
              "ticks": ""
             }
            },
            "type": "scatterpolargl"
           }
          ],
          "scatterternary": [
           {
            "marker": {
             "colorbar": {
              "outlinewidth": 0,
              "ticks": ""
             }
            },
            "type": "scatterternary"
           }
          ],
          "surface": [
           {
            "colorbar": {
             "outlinewidth": 0,
             "ticks": ""
            },
            "colorscale": [
             [
              0,
              "#0d0887"
             ],
             [
              0.1111111111111111,
              "#46039f"
             ],
             [
              0.2222222222222222,
              "#7201a8"
             ],
             [
              0.3333333333333333,
              "#9c179e"
             ],
             [
              0.4444444444444444,
              "#bd3786"
             ],
             [
              0.5555555555555556,
              "#d8576b"
             ],
             [
              0.6666666666666666,
              "#ed7953"
             ],
             [
              0.7777777777777778,
              "#fb9f3a"
             ],
             [
              0.8888888888888888,
              "#fdca26"
             ],
             [
              1,
              "#f0f921"
             ]
            ],
            "type": "surface"
           }
          ],
          "table": [
           {
            "cells": {
             "fill": {
              "color": "#EBF0F8"
             },
             "line": {
              "color": "white"
             }
            },
            "header": {
             "fill": {
              "color": "#C8D4E3"
             },
             "line": {
              "color": "white"
             }
            },
            "type": "table"
           }
          ]
         },
         "layout": {
          "annotationdefaults": {
           "arrowcolor": "#2a3f5f",
           "arrowhead": 0,
           "arrowwidth": 1
          },
          "autotypenumbers": "strict",
          "coloraxis": {
           "colorbar": {
            "outlinewidth": 0,
            "ticks": ""
           }
          },
          "colorscale": {
           "diverging": [
            [
             0,
             "#8e0152"
            ],
            [
             0.1,
             "#c51b7d"
            ],
            [
             0.2,
             "#de77ae"
            ],
            [
             0.3,
             "#f1b6da"
            ],
            [
             0.4,
             "#fde0ef"
            ],
            [
             0.5,
             "#f7f7f7"
            ],
            [
             0.6,
             "#e6f5d0"
            ],
            [
             0.7,
             "#b8e186"
            ],
            [
             0.8,
             "#7fbc41"
            ],
            [
             0.9,
             "#4d9221"
            ],
            [
             1,
             "#276419"
            ]
           ],
           "sequential": [
            [
             0,
             "#0d0887"
            ],
            [
             0.1111111111111111,
             "#46039f"
            ],
            [
             0.2222222222222222,
             "#7201a8"
            ],
            [
             0.3333333333333333,
             "#9c179e"
            ],
            [
             0.4444444444444444,
             "#bd3786"
            ],
            [
             0.5555555555555556,
             "#d8576b"
            ],
            [
             0.6666666666666666,
             "#ed7953"
            ],
            [
             0.7777777777777778,
             "#fb9f3a"
            ],
            [
             0.8888888888888888,
             "#fdca26"
            ],
            [
             1,
             "#f0f921"
            ]
           ],
           "sequentialminus": [
            [
             0,
             "#0d0887"
            ],
            [
             0.1111111111111111,
             "#46039f"
            ],
            [
             0.2222222222222222,
             "#7201a8"
            ],
            [
             0.3333333333333333,
             "#9c179e"
            ],
            [
             0.4444444444444444,
             "#bd3786"
            ],
            [
             0.5555555555555556,
             "#d8576b"
            ],
            [
             0.6666666666666666,
             "#ed7953"
            ],
            [
             0.7777777777777778,
             "#fb9f3a"
            ],
            [
             0.8888888888888888,
             "#fdca26"
            ],
            [
             1,
             "#f0f921"
            ]
           ]
          },
          "colorway": [
           "#636efa",
           "#EF553B",
           "#00cc96",
           "#ab63fa",
           "#FFA15A",
           "#19d3f3",
           "#FF6692",
           "#B6E880",
           "#FF97FF",
           "#FECB52"
          ],
          "font": {
           "color": "#2a3f5f"
          },
          "geo": {
           "bgcolor": "white",
           "lakecolor": "white",
           "landcolor": "#E5ECF6",
           "showlakes": true,
           "showland": true,
           "subunitcolor": "white"
          },
          "hoverlabel": {
           "align": "left"
          },
          "hovermode": "closest",
          "mapbox": {
           "style": "light"
          },
          "paper_bgcolor": "white",
          "plot_bgcolor": "#E5ECF6",
          "polar": {
           "angularaxis": {
            "gridcolor": "white",
            "linecolor": "white",
            "ticks": ""
           },
           "bgcolor": "#E5ECF6",
           "radialaxis": {
            "gridcolor": "white",
            "linecolor": "white",
            "ticks": ""
           }
          },
          "scene": {
           "xaxis": {
            "backgroundcolor": "#E5ECF6",
            "gridcolor": "white",
            "gridwidth": 2,
            "linecolor": "white",
            "showbackground": true,
            "ticks": "",
            "zerolinecolor": "white"
           },
           "yaxis": {
            "backgroundcolor": "#E5ECF6",
            "gridcolor": "white",
            "gridwidth": 2,
            "linecolor": "white",
            "showbackground": true,
            "ticks": "",
            "zerolinecolor": "white"
           },
           "zaxis": {
            "backgroundcolor": "#E5ECF6",
            "gridcolor": "white",
            "gridwidth": 2,
            "linecolor": "white",
            "showbackground": true,
            "ticks": "",
            "zerolinecolor": "white"
           }
          },
          "shapedefaults": {
           "line": {
            "color": "#2a3f5f"
           }
          },
          "ternary": {
           "aaxis": {
            "gridcolor": "white",
            "linecolor": "white",
            "ticks": ""
           },
           "baxis": {
            "gridcolor": "white",
            "linecolor": "white",
            "ticks": ""
           },
           "bgcolor": "#E5ECF6",
           "caxis": {
            "gridcolor": "white",
            "linecolor": "white",
            "ticks": ""
           }
          },
          "title": {
           "x": 0.05
          },
          "xaxis": {
           "automargin": true,
           "gridcolor": "white",
           "linecolor": "white",
           "ticks": "",
           "title": {
            "standoff": 15
           },
           "zerolinecolor": "white",
           "zerolinewidth": 2
          },
          "yaxis": {
           "automargin": true,
           "gridcolor": "white",
           "linecolor": "white",
           "ticks": "",
           "title": {
            "standoff": 15
           },
           "zerolinecolor": "white",
           "zerolinewidth": 2
          }
         }
        },
        "xaxis": {
         "anchor": "y",
         "domain": [
          0,
          1
         ],
         "title": {
          "text": "x"
         }
        },
        "yaxis": {
         "anchor": "x",
         "domain": [
          0,
          1
         ],
         "title": {
          "text": "y"
         }
        }
       }
      }
     },
     "metadata": {},
     "output_type": "display_data"
    }
   ],
   "source": [
    "import numpy as np\n",
    "import plotly.express as px\n",
    "\n",
    "x = np.linspace(-1, 1, 101)\n",
    "y = 2 * (x + np.random.rand(101))\n",
    "\n",
    "fig = px.scatter(x=x, y=y, trendline='ols')\n",
    "fig"
   ]
  },
  {
   "attachments": {},
   "cell_type": "markdown",
   "metadata": {},
   "source": [
    "### Forecasting\n",
    "- Time Series forecasts\n",
    "- Probability models\n",
    "- Forecasting using machine learning\n",
    "- Using ensemble methods to strengthen our understanding\n",
    "- Choosing the best tool for the job"
   ]
  },
  {
   "attachments": {},
   "cell_type": "markdown",
   "metadata": {},
   "source": [
    "## Remembering OLS...\n",
    "- The aim of the Ordinary Least Sqaures method is to minimize the sum of squared differences between the predicted and the real values.\n",
    "- Least squares stands for the minimum squares error (SSE)\n",
    "- Ordininary Least Squares (OLS) is the foundation of regression analysis, and an excellent starting point for this course\n",
    "- Estimates the expected outcome $(\\hat{y})$ given the inputs $(x)$\n",
    "- Calculating coefficient standard errors informs us about the level of noice in the data\n",
    "- $R^2$ and Adjusted $R^2$ tell us how much of the total variation our model accounts for"
   ]
  },
  {
   "attachments": {},
   "cell_type": "markdown",
   "metadata": {},
   "source": [
    "### OLS Linear Regression with statsmodels"
   ]
  },
  {
   "cell_type": "code",
   "execution_count": 23,
   "metadata": {},
   "outputs": [],
   "source": [
    "import pandas as pd\n",
    "import numpy as np\n",
    "\n",
    "data = pd.read_csv(\"https://github.com/dustywhite7/Econ8310/raw/master/DataSets/nflValues.csv\")"
   ]
  },
  {
   "cell_type": "code",
   "execution_count": 39,
   "metadata": {},
   "outputs": [
    {
     "data": {
      "text/html": [
       "<table class=\"simpletable\">\n",
       "<caption>OLS Regression Results</caption>\n",
       "<tr>\n",
       "  <th>Dep. Variable:</th>     <td>OperatingIncome</td> <th>  R-squared:         </th> <td>   0.014</td>\n",
       "</tr>\n",
       "<tr>\n",
       "  <th>Model:</th>                   <td>OLS</td>       <th>  Adj. R-squared:    </th> <td>   0.008</td>\n",
       "</tr>\n",
       "<tr>\n",
       "  <th>Method:</th>             <td>Least Squares</td>  <th>  F-statistic:       </th> <td>   2.454</td>\n",
       "</tr>\n",
       "<tr>\n",
       "  <th>Date:</th>             <td>Fri, 27 Jan 2023</td> <th>  Prob (F-statistic):</th>  <td>0.0624</td> \n",
       "</tr>\n",
       "<tr>\n",
       "  <th>Time:</th>                 <td>21:13:39</td>     <th>  Log-Likelihood:    </th> <td> -2628.9</td>\n",
       "</tr>\n",
       "<tr>\n",
       "  <th>No. Observations:</th>      <td>   539</td>      <th>  AIC:               </th> <td>   5266.</td>\n",
       "</tr>\n",
       "<tr>\n",
       "  <th>Df Residuals:</th>          <td>   535</td>      <th>  BIC:               </th> <td>   5283.</td>\n",
       "</tr>\n",
       "<tr>\n",
       "  <th>Df Model:</th>              <td>     3</td>      <th>                     </th>     <td> </td>   \n",
       "</tr>\n",
       "<tr>\n",
       "  <th>Covariance Type:</th>      <td>nonrobust</td>    <th>                     </th>     <td> </td>   \n",
       "</tr>\n",
       "</table>\n",
       "<table class=\"simpletable\">\n",
       "<tr>\n",
       "      <td></td>         <th>coef</th>     <th>std err</th>      <th>t</th>      <th>P>|t|</th>  <th>[0.025</th>    <th>0.975]</th>  \n",
       "</tr>\n",
       "<tr>\n",
       "  <th>const</th>     <td>   32.0112</td> <td>    1.950</td> <td>   16.419</td> <td> 0.000</td> <td>   28.181</td> <td>   35.841</td>\n",
       "</tr>\n",
       "<tr>\n",
       "  <th>Playoffs</th>  <td>    0.6974</td> <td>    2.832</td> <td>    0.246</td> <td> 0.806</td> <td>   -4.865</td> <td>    6.260</td>\n",
       "</tr>\n",
       "<tr>\n",
       "  <th>TVDeal</th>    <td>    5.9941</td> <td>    3.671</td> <td>    1.633</td> <td> 0.103</td> <td>   -1.218</td> <td>   13.206</td>\n",
       "</tr>\n",
       "<tr>\n",
       "  <th>Expansion</th> <td>   -8.0181</td> <td>    4.336</td> <td>   -1.849</td> <td> 0.065</td> <td>  -16.536</td> <td>    0.499</td>\n",
       "</tr>\n",
       "</table>\n",
       "<table class=\"simpletable\">\n",
       "<tr>\n",
       "  <th>Omnibus:</th>       <td>401.869</td> <th>  Durbin-Watson:     </th> <td>   0.966</td>\n",
       "</tr>\n",
       "<tr>\n",
       "  <th>Prob(Omnibus):</th> <td> 0.000</td>  <th>  Jarque-Bera (JB):  </th> <td>6843.384</td>\n",
       "</tr>\n",
       "<tr>\n",
       "  <th>Skew:</th>          <td> 3.136</td>  <th>  Prob(JB):          </th> <td>    0.00</td>\n",
       "</tr>\n",
       "<tr>\n",
       "  <th>Kurtosis:</th>      <td>19.290</td>  <th>  Cond. No.          </th> <td>    3.66</td>\n",
       "</tr>\n",
       "</table><br/><br/>Notes:<br/>[1] Standard Errors assume that the covariance matrix of the errors is correctly specified."
      ],
      "text/plain": [
       "<class 'statsmodels.iolib.summary.Summary'>\n",
       "\"\"\"\n",
       "                            OLS Regression Results                            \n",
       "==============================================================================\n",
       "Dep. Variable:        OperatingIncome   R-squared:                       0.014\n",
       "Model:                            OLS   Adj. R-squared:                  0.008\n",
       "Method:                 Least Squares   F-statistic:                     2.454\n",
       "Date:                Fri, 27 Jan 2023   Prob (F-statistic):             0.0624\n",
       "Time:                        21:13:39   Log-Likelihood:                -2628.9\n",
       "No. Observations:                 539   AIC:                             5266.\n",
       "Df Residuals:                     535   BIC:                             5283.\n",
       "Df Model:                           3                                         \n",
       "Covariance Type:            nonrobust                                         \n",
       "==============================================================================\n",
       "                 coef    std err          t      P>|t|      [0.025      0.975]\n",
       "------------------------------------------------------------------------------\n",
       "const         32.0112      1.950     16.419      0.000      28.181      35.841\n",
       "Playoffs       0.6974      2.832      0.246      0.806      -4.865       6.260\n",
       "TVDeal         5.9941      3.671      1.633      0.103      -1.218      13.206\n",
       "Expansion     -8.0181      4.336     -1.849      0.065     -16.536       0.499\n",
       "==============================================================================\n",
       "Omnibus:                      401.869   Durbin-Watson:                   0.966\n",
       "Prob(Omnibus):                  0.000   Jarque-Bera (JB):             6843.384\n",
       "Skew:                           3.136   Prob(JB):                         0.00\n",
       "Kurtosis:                      19.290   Cond. No.                         3.66\n",
       "==============================================================================\n",
       "\n",
       "Notes:\n",
       "[1] Standard Errors assume that the covariance matrix of the errors is correctly specified.\n",
       "\"\"\""
      ]
     },
     "execution_count": 39,
     "metadata": {},
     "output_type": "execute_result"
    }
   ],
   "source": [
    "import statsmodels.api as sm\n",
    "\n",
    "x = data[['Playoffs', 'TVDeal', 'Expansion']]\n",
    "x = sm.add_constant(x)\n",
    "y = data['OperatingIncome']\n",
    "\n",
    "fitted_model = sm.OLS(y, x).fit()\n",
    "fitted_model.summary()"
   ]
  },
  {
   "cell_type": "code",
   "execution_count": 41,
   "metadata": {},
   "outputs": [
    {
     "data": {
      "text/html": [
       "<table class=\"simpletable\">\n",
       "<caption>OLS Regression Results</caption>\n",
       "<tr>\n",
       "  <th>Dep. Variable:</th>     <td>OperatingIncome</td> <th>  R-squared:         </th> <td>   0.014</td>\n",
       "</tr>\n",
       "<tr>\n",
       "  <th>Model:</th>                   <td>OLS</td>       <th>  Adj. R-squared:    </th> <td>   0.008</td>\n",
       "</tr>\n",
       "<tr>\n",
       "  <th>Method:</th>             <td>Least Squares</td>  <th>  F-statistic:       </th> <td>   2.454</td>\n",
       "</tr>\n",
       "<tr>\n",
       "  <th>Date:</th>             <td>Fri, 27 Jan 2023</td> <th>  Prob (F-statistic):</th>  <td>0.0624</td> \n",
       "</tr>\n",
       "<tr>\n",
       "  <th>Time:</th>                 <td>21:14:56</td>     <th>  Log-Likelihood:    </th> <td> -2628.9</td>\n",
       "</tr>\n",
       "<tr>\n",
       "  <th>No. Observations:</th>      <td>   539</td>      <th>  AIC:               </th> <td>   5266.</td>\n",
       "</tr>\n",
       "<tr>\n",
       "  <th>Df Residuals:</th>          <td>   535</td>      <th>  BIC:               </th> <td>   5283.</td>\n",
       "</tr>\n",
       "<tr>\n",
       "  <th>Df Model:</th>              <td>     3</td>      <th>                     </th>     <td> </td>   \n",
       "</tr>\n",
       "<tr>\n",
       "  <th>Covariance Type:</th>      <td>nonrobust</td>    <th>                     </th>     <td> </td>   \n",
       "</tr>\n",
       "</table>\n",
       "<table class=\"simpletable\">\n",
       "<tr>\n",
       "      <td></td>         <th>coef</th>     <th>std err</th>      <th>t</th>      <th>P>|t|</th>  <th>[0.025</th>    <th>0.975]</th>  \n",
       "</tr>\n",
       "<tr>\n",
       "  <th>Intercept</th> <td>   32.0112</td> <td>    1.950</td> <td>   16.419</td> <td> 0.000</td> <td>   28.181</td> <td>   35.841</td>\n",
       "</tr>\n",
       "<tr>\n",
       "  <th>Playoffs</th>  <td>    0.6974</td> <td>    2.832</td> <td>    0.246</td> <td> 0.806</td> <td>   -4.865</td> <td>    6.260</td>\n",
       "</tr>\n",
       "<tr>\n",
       "  <th>TVDeal</th>    <td>    5.9941</td> <td>    3.671</td> <td>    1.633</td> <td> 0.103</td> <td>   -1.218</td> <td>   13.206</td>\n",
       "</tr>\n",
       "<tr>\n",
       "  <th>Expansion</th> <td>   -8.0181</td> <td>    4.336</td> <td>   -1.849</td> <td> 0.065</td> <td>  -16.536</td> <td>    0.499</td>\n",
       "</tr>\n",
       "</table>\n",
       "<table class=\"simpletable\">\n",
       "<tr>\n",
       "  <th>Omnibus:</th>       <td>401.869</td> <th>  Durbin-Watson:     </th> <td>   0.966</td>\n",
       "</tr>\n",
       "<tr>\n",
       "  <th>Prob(Omnibus):</th> <td> 0.000</td>  <th>  Jarque-Bera (JB):  </th> <td>6843.384</td>\n",
       "</tr>\n",
       "<tr>\n",
       "  <th>Skew:</th>          <td> 3.136</td>  <th>  Prob(JB):          </th> <td>    0.00</td>\n",
       "</tr>\n",
       "<tr>\n",
       "  <th>Kurtosis:</th>      <td>19.290</td>  <th>  Cond. No.          </th> <td>    3.66</td>\n",
       "</tr>\n",
       "</table><br/><br/>Notes:<br/>[1] Standard Errors assume that the covariance matrix of the errors is correctly specified."
      ],
      "text/plain": [
       "<class 'statsmodels.iolib.summary.Summary'>\n",
       "\"\"\"\n",
       "                            OLS Regression Results                            \n",
       "==============================================================================\n",
       "Dep. Variable:        OperatingIncome   R-squared:                       0.014\n",
       "Model:                            OLS   Adj. R-squared:                  0.008\n",
       "Method:                 Least Squares   F-statistic:                     2.454\n",
       "Date:                Fri, 27 Jan 2023   Prob (F-statistic):             0.0624\n",
       "Time:                        21:14:56   Log-Likelihood:                -2628.9\n",
       "No. Observations:                 539   AIC:                             5266.\n",
       "Df Residuals:                     535   BIC:                             5283.\n",
       "Df Model:                           3                                         \n",
       "Covariance Type:            nonrobust                                         \n",
       "==============================================================================\n",
       "                 coef    std err          t      P>|t|      [0.025      0.975]\n",
       "------------------------------------------------------------------------------\n",
       "Intercept     32.0112      1.950     16.419      0.000      28.181      35.841\n",
       "Playoffs       0.6974      2.832      0.246      0.806      -4.865       6.260\n",
       "TVDeal         5.9941      3.671      1.633      0.103      -1.218      13.206\n",
       "Expansion     -8.0181      4.336     -1.849      0.065     -16.536       0.499\n",
       "==============================================================================\n",
       "Omnibus:                      401.869   Durbin-Watson:                   0.966\n",
       "Prob(Omnibus):                  0.000   Jarque-Bera (JB):             6843.384\n",
       "Skew:                           3.136   Prob(JB):                         0.00\n",
       "Kurtosis:                      19.290   Cond. No.                         3.66\n",
       "==============================================================================\n",
       "\n",
       "Notes:\n",
       "[1] Standard Errors assume that the covariance matrix of the errors is correctly specified.\n",
       "\"\"\""
      ]
     },
     "execution_count": 41,
     "metadata": {},
     "output_type": "execute_result"
    }
   ],
   "source": [
    "import patsy as pt\n",
    "\n",
    "y, x = pt.dmatrices(\"OperatingIncome ~ Playoffs + TVDeal + Expansion\",  data=data)\n",
    "\n",
    "fitted_model = sm.OLS(endog=y, exog=x).fit()\n",
    "fitted_model.summary()"
   ]
  },
  {
   "attachments": {},
   "cell_type": "markdown",
   "metadata": {},
   "source": [
    "## Cause and Effect\n",
    "- The goal of statistical modeling is to understand the inputs that cause some specific outcome that we want to study. The catch with statistical models is that statistical models do not successfully identify causation. Statistical models instead identify correlation, and leve causation to domain expertise."
   ]
  },
  {
   "attachments": {},
   "cell_type": "markdown",
   "metadata": {},
   "source": [
    "### Questioning Causality\n",
    "1. Is is possible that y causes x instead?\n",
    "2. Is it possible that z (a new factor that we have not considered before) is causing both x and y?\n",
    "3. Could the relationship have been observed by chance?"
   ]
  },
  {
   "attachments": {},
   "cell_type": "markdown",
   "metadata": {},
   "source": [
    "### Establishing Causality\n",
    "In order to establish causality, we need to meet several conditions:\n",
    "- We can explain why x causes y\n",
    "- We can demonstrate that nothing else is driving the changes (within reason)\n",
    "- We can show that there is a correlation between x and y\n",
    "\n",
    "In other words, we need a way to statistically isolate the relationship between two variables, even when there are other \"moving parts\" in our model"
   ]
  },
  {
   "attachments": {},
   "cell_type": "markdown",
   "metadata": {},
   "source": [
    "### RCT\n",
    "One way to establish causality is through Randomized Controlled Trials (RCTs). In the context of an RCT, the experiment is designed such that only one variable is experimented upon. By assigning random individuals to the treatment and control groups, the researcher can use univatiate statistical tests to determine the relationship between the variable of interest"
   ]
  },
  {
   "attachments": {},
   "cell_type": "markdown",
   "metadata": {},
   "source": [
    "## Regression"
   ]
  },
  {
   "attachments": {},
   "cell_type": "markdown",
   "metadata": {},
   "source": [
    "#### Regression Assumptions"
   ]
  },
  {
   "attachments": {},
   "cell_type": "markdown",
   "metadata": {},
   "source": [
    "It is important to note taht the statistical models underlying linear regression depend on several assumptions:\n",
    "1. Effects are Linear\n",
    "2. Errors are normally distributed\n",
    "3. Variables are not collinear\n",
    "4. No Autocorrelation (problematic for time series data)\n",
    "5. Homoskedasticity (Errors are shaped the same accross all observations)\n",
    "\n",
    "While the study of these assumptions is essential for a practitioner, and frequently occupies an entire semester-long course, it is sufficient to state these assumptions, and be aware that these assumptions are baked into the models."
   ]
  },
  {
   "attachments": {},
   "cell_type": "markdown",
   "metadata": {},
   "source": [
    "#### When should we use regression?\n",
    "- Regression analysis is most useful when you care about why a particular outcome occurs. Regressions are very powerful transparent models, by which I mean that it is straightforward to see how each variable leads to the predicted outcome.\n",
    "- Regression models are the de facto standard for understanding how one variable causes the other to change.\n"
   ]
  },
  {
   "attachments": {},
   "cell_type": "markdown",
   "metadata": {},
   "source": [
    "## Implementing Linear Regression in Python"
   ]
  },
  {
   "attachments": {},
   "cell_type": "markdown",
   "metadata": {},
   "source": [
    "In order to perform regression analysis, we will utilize the statsmodels library, which is capable of performing most types of regression modeling."
   ]
  },
  {
   "cell_type": "code",
   "execution_count": 59,
   "metadata": {},
   "outputs": [
    {
     "data": {
      "text/html": [
       "<table class=\"simpletable\">\n",
       "<caption>OLS Regression Results</caption>\n",
       "<tr>\n",
       "  <th>Dep. Variable:</th>         <td>Weight</td>      <th>  R-squared:         </th> <td>   0.930</td>\n",
       "</tr>\n",
       "<tr>\n",
       "  <th>Model:</th>                   <td>OLS</td>       <th>  Adj. R-squared:    </th> <td>   0.927</td>\n",
       "</tr>\n",
       "<tr>\n",
       "  <th>Method:</th>             <td>Least Squares</td>  <th>  F-statistic:       </th> <td>   286.9</td>\n",
       "</tr>\n",
       "<tr>\n",
       "  <th>Date:</th>             <td>Fri, 27 Jan 2023</td> <th>  Prob (F-statistic):</th> <td>7.78e-84</td>\n",
       "</tr>\n",
       "<tr>\n",
       "  <th>Time:</th>                 <td>22:57:29</td>     <th>  Log-Likelihood:    </th> <td> -948.61</td>\n",
       "</tr>\n",
       "<tr>\n",
       "  <th>No. Observations:</th>      <td>   159</td>      <th>  AIC:               </th> <td>   1913.</td>\n",
       "</tr>\n",
       "<tr>\n",
       "  <th>Df Residuals:</th>          <td>   151</td>      <th>  BIC:               </th> <td>   1938.</td>\n",
       "</tr>\n",
       "<tr>\n",
       "  <th>Df Model:</th>              <td>     7</td>      <th>                     </th>     <td> </td>   \n",
       "</tr>\n",
       "<tr>\n",
       "  <th>Covariance Type:</th>      <td>nonrobust</td>    <th>                     </th>     <td> </td>   \n",
       "</tr>\n",
       "</table>\n",
       "<table class=\"simpletable\">\n",
       "<tr>\n",
       "          <td></td>             <th>coef</th>     <th>std err</th>      <th>t</th>      <th>P>|t|</th>  <th>[0.025</th>    <th>0.975]</th>  \n",
       "</tr>\n",
       "<tr>\n",
       "  <th>const</th>             <td> -668.1044</td> <td>   40.472</td> <td>  -16.508</td> <td> 0.000</td> <td> -748.069</td> <td> -588.139</td>\n",
       "</tr>\n",
       "<tr>\n",
       "  <th>Length1</th>           <td>   42.4320</td> <td>    1.221</td> <td>   34.741</td> <td> 0.000</td> <td>   40.019</td> <td>   44.845</td>\n",
       "</tr>\n",
       "<tr>\n",
       "  <th>Species_Parkki</th>    <td>   28.2864</td> <td>   36.336</td> <td>    0.778</td> <td> 0.438</td> <td>  -43.506</td> <td>  100.078</td>\n",
       "</tr>\n",
       "<tr>\n",
       "  <th>Species_Perch</th>     <td>  -41.6749</td> <td>   21.598</td> <td>   -1.930</td> <td> 0.056</td> <td>  -84.349</td> <td>    0.999</td>\n",
       "</tr>\n",
       "<tr>\n",
       "  <th>Species_Pike</th>      <td> -415.5526</td> <td>   32.256</td> <td>  -12.883</td> <td> 0.000</td> <td> -479.283</td> <td> -351.822</td>\n",
       "</tr>\n",
       "<tr>\n",
       "  <th>Species_Roach</th>     <td>  -55.8549</td> <td>   29.596</td> <td>   -1.887</td> <td> 0.061</td> <td> -114.331</td> <td>    2.621</td>\n",
       "</tr>\n",
       "<tr>\n",
       "  <th>Species_Smelt</th>     <td>  201.6195</td> <td>   38.457</td> <td>    5.243</td> <td> 0.000</td> <td>  125.637</td> <td>  277.602</td>\n",
       "</tr>\n",
       "<tr>\n",
       "  <th>Species_Whitefish</th> <td>  -22.9381</td> <td>   42.825</td> <td>   -0.536</td> <td> 0.593</td> <td> -107.552</td> <td>   61.676</td>\n",
       "</tr>\n",
       "</table>\n",
       "<table class=\"simpletable\">\n",
       "<tr>\n",
       "  <th>Omnibus:</th>       <td>30.449</td> <th>  Durbin-Watson:     </th> <td>   0.862</td>\n",
       "</tr>\n",
       "<tr>\n",
       "  <th>Prob(Omnibus):</th> <td> 0.000</td> <th>  Jarque-Bera (JB):  </th> <td>  55.264</td>\n",
       "</tr>\n",
       "<tr>\n",
       "  <th>Skew:</th>          <td> 0.910</td> <th>  Prob(JB):          </th> <td>9.99e-13</td>\n",
       "</tr>\n",
       "<tr>\n",
       "  <th>Kurtosis:</th>      <td> 5.242</td> <th>  Cond. No.          </th> <td>    230.</td>\n",
       "</tr>\n",
       "</table><br/><br/>Notes:<br/>[1] Standard Errors assume that the covariance matrix of the errors is correctly specified."
      ],
      "text/plain": [
       "<class 'statsmodels.iolib.summary.Summary'>\n",
       "\"\"\"\n",
       "                            OLS Regression Results                            \n",
       "==============================================================================\n",
       "Dep. Variable:                 Weight   R-squared:                       0.930\n",
       "Model:                            OLS   Adj. R-squared:                  0.927\n",
       "Method:                 Least Squares   F-statistic:                     286.9\n",
       "Date:                Fri, 27 Jan 2023   Prob (F-statistic):           7.78e-84\n",
       "Time:                        22:57:29   Log-Likelihood:                -948.61\n",
       "No. Observations:                 159   AIC:                             1913.\n",
       "Df Residuals:                     151   BIC:                             1938.\n",
       "Df Model:                           7                                         \n",
       "Covariance Type:            nonrobust                                         \n",
       "=====================================================================================\n",
       "                        coef    std err          t      P>|t|      [0.025      0.975]\n",
       "-------------------------------------------------------------------------------------\n",
       "const              -668.1044     40.472    -16.508      0.000    -748.069    -588.139\n",
       "Length1              42.4320      1.221     34.741      0.000      40.019      44.845\n",
       "Species_Parkki       28.2864     36.336      0.778      0.438     -43.506     100.078\n",
       "Species_Perch       -41.6749     21.598     -1.930      0.056     -84.349       0.999\n",
       "Species_Pike       -415.5526     32.256    -12.883      0.000    -479.283    -351.822\n",
       "Species_Roach       -55.8549     29.596     -1.887      0.061    -114.331       2.621\n",
       "Species_Smelt       201.6195     38.457      5.243      0.000     125.637     277.602\n",
       "Species_Whitefish   -22.9381     42.825     -0.536      0.593    -107.552      61.676\n",
       "==============================================================================\n",
       "Omnibus:                       30.449   Durbin-Watson:                   0.862\n",
       "Prob(Omnibus):                  0.000   Jarque-Bera (JB):               55.264\n",
       "Skew:                           0.910   Prob(JB):                     9.99e-13\n",
       "Kurtosis:                       5.242   Cond. No.                         230.\n",
       "==============================================================================\n",
       "\n",
       "Notes:\n",
       "[1] Standard Errors assume that the covariance matrix of the errors is correctly specified.\n",
       "\"\"\""
      ]
     },
     "execution_count": 59,
     "metadata": {},
     "output_type": "execute_result"
    }
   ],
   "source": [
    "import pandas as pd\n",
    "import polars as pl\n",
    "import statsmodels.api as sm\n",
    "\n",
    "data = pd.read_csv(\"https://github.com/dustywhite7/pythonMikkeli/raw/master/exampleData/fishWeight.csv\")\n",
    "x = data[['Length1', 'Species']]\n",
    "x = pd.get_dummies(x, columns=['Species'], drop_first=True)\n",
    "x = sm.add_constant(x)\n",
    "y = data['Weight']\n",
    "\n",
    "reg_fitted = sm.OLS(endog=y, exog=x).fit()\n",
    "reg_fitted.summary()"
   ]
  },
  {
   "attachments": {},
   "cell_type": "markdown",
   "metadata": {},
   "source": [
    "#### Linear Model Exercise\n",
    "Using the wage data provided here (https://github.com/dustywhite7/pythonMikkeli/raw/master/exampleData/wagePanelData.csv), create a linear regression model to explain and/or predict wages. Your fitted model should be stored as reg. If you do not name the model correctly, you won’t get any points!\n",
    "\n",
    "All code needed to implement your model should be placed in the file linearModel.py found in the file tree."
   ]
  },
  {
   "cell_type": "code",
   "execution_count": 58,
   "metadata": {},
   "outputs": [
    {
     "data": {
      "text/html": [
       "<table class=\"simpletable\">\n",
       "<caption>OLS Regression Results</caption>\n",
       "<tr>\n",
       "  <th>Dep. Variable:</th>        <td>log_wage</td>     <th>  R-squared:         </th> <td>   0.482</td>\n",
       "</tr>\n",
       "<tr>\n",
       "  <th>Model:</th>                   <td>OLS</td>       <th>  Adj. R-squared:    </th> <td>   0.481</td>\n",
       "</tr>\n",
       "<tr>\n",
       "  <th>Method:</th>             <td>Least Squares</td>  <th>  F-statistic:       </th> <td>   429.8</td>\n",
       "</tr>\n",
       "<tr>\n",
       "  <th>Date:</th>             <td>Fri, 27 Jan 2023</td> <th>  Prob (F-statistic):</th>  <td>  0.00</td> \n",
       "</tr>\n",
       "<tr>\n",
       "  <th>Time:</th>                 <td>22:57:05</td>     <th>  Log-Likelihood:    </th> <td> -1318.4</td>\n",
       "</tr>\n",
       "<tr>\n",
       "  <th>No. Observations:</th>      <td>  4165</td>      <th>  AIC:               </th> <td>   2657.</td>\n",
       "</tr>\n",
       "<tr>\n",
       "  <th>Df Residuals:</th>          <td>  4155</td>      <th>  BIC:               </th> <td>   2720.</td>\n",
       "</tr>\n",
       "<tr>\n",
       "  <th>Df Model:</th>              <td>     9</td>      <th>                     </th>     <td> </td>   \n",
       "</tr>\n",
       "<tr>\n",
       "  <th>Covariance Type:</th>      <td>nonrobust</td>    <th>                     </th>     <td> </td>   \n",
       "</tr>\n",
       "</table>\n",
       "<table class=\"simpletable\">\n",
       "<tr>\n",
       "            <td></td>               <th>coef</th>     <th>std err</th>      <th>t</th>      <th>P>|t|</th>  <th>[0.025</th>    <th>0.975]</th>  \n",
       "</tr>\n",
       "<tr>\n",
       "  <th>const</th>                 <td>    6.3061</td> <td>    0.018</td> <td>  355.609</td> <td> 0.000</td> <td>    6.271</td> <td>    6.341</td>\n",
       "</tr>\n",
       "<tr>\n",
       "  <th>year</th>                  <td>    0.0914</td> <td>    0.003</td> <td>   34.840</td> <td> 0.000</td> <td>    0.086</td> <td>    0.097</td>\n",
       "</tr>\n",
       "<tr>\n",
       "  <th>years_experience</th>      <td>    0.0048</td> <td>    0.000</td> <td>    9.882</td> <td> 0.000</td> <td>    0.004</td> <td>    0.006</td>\n",
       "</tr>\n",
       "<tr>\n",
       "  <th>occupation_code</th>       <td>   -0.3048</td> <td>    0.012</td> <td>  -25.932</td> <td> 0.000</td> <td>   -0.328</td> <td>   -0.282</td>\n",
       "</tr>\n",
       "<tr>\n",
       "  <th>industry_code</th>         <td>    0.0333</td> <td>    0.011</td> <td>    2.997</td> <td> 0.003</td> <td>    0.012</td> <td>    0.055</td>\n",
       "</tr>\n",
       "<tr>\n",
       "  <th>south_region</th>          <td>   -0.0921</td> <td>    0.012</td> <td>   -7.804</td> <td> 0.000</td> <td>   -0.115</td> <td>   -0.069</td>\n",
       "</tr>\n",
       "<tr>\n",
       "  <th>metropolitan_resident</th> <td>    0.1857</td> <td>    0.011</td> <td>   16.298</td> <td> 0.000</td> <td>    0.163</td> <td>    0.208</td>\n",
       "</tr>\n",
       "<tr>\n",
       "  <th>female</th>                <td>   -0.4675</td> <td>    0.017</td> <td>  -27.318</td> <td> 0.000</td> <td>   -0.501</td> <td>   -0.434</td>\n",
       "</tr>\n",
       "<tr>\n",
       "  <th>union_member</th>          <td>    0.0655</td> <td>    0.012</td> <td>    5.500</td> <td> 0.000</td> <td>    0.042</td> <td>    0.089</td>\n",
       "</tr>\n",
       "<tr>\n",
       "  <th>is_black</th>              <td>   -0.2001</td> <td>    0.021</td> <td>   -9.608</td> <td> 0.000</td> <td>   -0.241</td> <td>   -0.159</td>\n",
       "</tr>\n",
       "</table>\n",
       "<table class=\"simpletable\">\n",
       "<tr>\n",
       "  <th>Omnibus:</th>       <td>100.547</td> <th>  Durbin-Watson:     </th> <td>   0.565</td>\n",
       "</tr>\n",
       "<tr>\n",
       "  <th>Prob(Omnibus):</th> <td> 0.000</td>  <th>  Jarque-Bera (JB):  </th> <td> 231.789</td>\n",
       "</tr>\n",
       "<tr>\n",
       "  <th>Skew:</th>          <td>-0.033</td>  <th>  Prob(JB):          </th> <td>4.65e-51</td>\n",
       "</tr>\n",
       "<tr>\n",
       "  <th>Kurtosis:</th>      <td> 4.154</td>  <th>  Cond. No.          </th> <td>    99.6</td>\n",
       "</tr>\n",
       "</table><br/><br/>Notes:<br/>[1] Standard Errors assume that the covariance matrix of the errors is correctly specified."
      ],
      "text/plain": [
       "<class 'statsmodels.iolib.summary.Summary'>\n",
       "\"\"\"\n",
       "                            OLS Regression Results                            \n",
       "==============================================================================\n",
       "Dep. Variable:               log_wage   R-squared:                       0.482\n",
       "Model:                            OLS   Adj. R-squared:                  0.481\n",
       "Method:                 Least Squares   F-statistic:                     429.8\n",
       "Date:                Fri, 27 Jan 2023   Prob (F-statistic):               0.00\n",
       "Time:                        22:57:05   Log-Likelihood:                -1318.4\n",
       "No. Observations:                4165   AIC:                             2657.\n",
       "Df Residuals:                    4155   BIC:                             2720.\n",
       "Df Model:                           9                                         \n",
       "Covariance Type:            nonrobust                                         \n",
       "=========================================================================================\n",
       "                            coef    std err          t      P>|t|      [0.025      0.975]\n",
       "-----------------------------------------------------------------------------------------\n",
       "const                     6.3061      0.018    355.609      0.000       6.271       6.341\n",
       "year                      0.0914      0.003     34.840      0.000       0.086       0.097\n",
       "years_experience          0.0048      0.000      9.882      0.000       0.004       0.006\n",
       "occupation_code          -0.3048      0.012    -25.932      0.000      -0.328      -0.282\n",
       "industry_code             0.0333      0.011      2.997      0.003       0.012       0.055\n",
       "south_region             -0.0921      0.012     -7.804      0.000      -0.115      -0.069\n",
       "metropolitan_resident     0.1857      0.011     16.298      0.000       0.163       0.208\n",
       "female                   -0.4675      0.017    -27.318      0.000      -0.501      -0.434\n",
       "union_member              0.0655      0.012      5.500      0.000       0.042       0.089\n",
       "is_black                 -0.2001      0.021     -9.608      0.000      -0.241      -0.159\n",
       "==============================================================================\n",
       "Omnibus:                      100.547   Durbin-Watson:                   0.565\n",
       "Prob(Omnibus):                  0.000   Jarque-Bera (JB):              231.789\n",
       "Skew:                          -0.033   Prob(JB):                     4.65e-51\n",
       "Kurtosis:                       4.154   Cond. No.                         99.6\n",
       "==============================================================================\n",
       "\n",
       "Notes:\n",
       "[1] Standard Errors assume that the covariance matrix of the errors is correctly specified.\n",
       "\"\"\""
      ]
     },
     "execution_count": 58,
     "metadata": {},
     "output_type": "execute_result"
    }
   ],
   "source": [
    "from statsmodels.stats.outliers_influence import variance_inflation_factor\n",
    "import matplotlib.pyplot as plt\n",
    "import seaborn as sns\n",
    "import pandas as pd\n",
    "\n",
    "# Read Data\n",
    "data = pd.read_csv('https://github.com/dustywhite7/pythonMikkeli/raw/master/exampleData/wagePanelData.csv')\n",
    "\n",
    "# Check VIF per column to test multicollinearity\n",
    "vif_data = pd.DataFrame()\n",
    "x_variables = data.drop(columns=['id', 'log_wage'])\n",
    "vif_data[\"feature\"] = x_variables.columns\n",
    "vif_data[\"VIF\"] = [variance_inflation_factor(x_variables.values, i) for i in range(len(x_variables.columns))]\n",
    "\n",
    "# Get x and y features\n",
    "x = data.drop(columns=['id', 'log_wage', 'education', 'weeks_worked', 'ms'])\n",
    "x = sm.add_constant(x)\n",
    "y = data['log_wage']\n",
    "\n",
    "# Fit Regression\n",
    "reg = sm.OLS(endog=y, exog=x)\n",
    "reg_fitted = reg.fit()\n",
    "\n",
    "reg_fitted.summary()"
   ]
  },
  {
   "attachments": {},
   "cell_type": "markdown",
   "metadata": {},
   "source": [
    "## Don't Forgot Logistic Regression"
   ]
  },
  {
   "attachments": {},
   "cell_type": "markdown",
   "metadata": {},
   "source": [
    "- Linear regression is used to model outcomes that represent discrete outcomes such as success or failure, or to model the probability of success or failure. This is called a Linear Probability Model (LPM)\n",
    "- One important part of any linear regression model is the linearity of the model. The issue with this is that a linear function with a nonzero slope will be by definition be unbounded, and will not remain within the [0,1] interval."
   ]
  },
  {
   "attachments": {},
   "cell_type": "markdown",
   "metadata": {},
   "source": [
    "#### Non-Linear, But in a Good Way\n",
    "- Is there a better way to model probabilties using regression analysis, it is called Logistic Regression.\n",
    "- We want to redesign our regression model to resemble a linear model, but stay within the [0,1] interval\n",
    "- To fix our regression equation, we make a really simple transformation called the logistic transformation."
   ]
  },
  {
   "attachments": {},
   "cell_type": "markdown",
   "metadata": {},
   "source": [
    "$$y=\\frac{exp(β0+β1⋅x1+β2⋅x2...+βk⋅xk)}{1+exp(β0+β1⋅x1+β2⋅x2...+βk⋅xk)}$$"
   ]
  },
  {
   "attachments": {},
   "cell_type": "markdown",
   "metadata": {},
   "source": [
    "- Where exp() represents Euler's number raise to the power of the interbal element (In our case, our original linear regression function)"
   ]
  },
  {
   "cell_type": "code",
   "execution_count": 32,
   "metadata": {},
   "outputs": [
    {
     "name": "stdout",
     "output_type": "stream",
     "text": [
      "Optimization terminated successfully.\n",
      "         Current function value: 0.494047\n",
      "         Iterations 6\n"
     ]
    },
    {
     "data": {
      "text/html": [
       "<table class=\"simpletable\">\n",
       "<caption>Logit Regression Results</caption>\n",
       "<tr>\n",
       "  <th>Dep. Variable:</th>          <td>G3</td>        <th>  No. Observations:  </th>  <td>   296</td>  \n",
       "</tr>\n",
       "<tr>\n",
       "  <th>Model:</th>                 <td>Logit</td>      <th>  Df Residuals:      </th>  <td>   265</td>  \n",
       "</tr>\n",
       "<tr>\n",
       "  <th>Method:</th>                 <td>MLE</td>       <th>  Df Model:          </th>  <td>    30</td>  \n",
       "</tr>\n",
       "<tr>\n",
       "  <th>Date:</th>            <td>Sat, 28 Jan 2023</td> <th>  Pseudo R-squ.:     </th>  <td>0.2096</td>  \n",
       "</tr>\n",
       "<tr>\n",
       "  <th>Time:</th>                <td>11:06:19</td>     <th>  Log-Likelihood:    </th> <td> -146.24</td> \n",
       "</tr>\n",
       "<tr>\n",
       "  <th>converged:</th>             <td>True</td>       <th>  LL-Null:           </th> <td> -185.01</td> \n",
       "</tr>\n",
       "<tr>\n",
       "  <th>Covariance Type:</th>     <td>nonrobust</td>    <th>  LLR p-value:       </th> <td>4.437e-06</td>\n",
       "</tr>\n",
       "</table>\n",
       "<table class=\"simpletable\">\n",
       "<tr>\n",
       "       <td></td>         <th>coef</th>     <th>std err</th>      <th>z</th>      <th>P>|z|</th>  <th>[0.025</th>    <th>0.975]</th>  \n",
       "</tr>\n",
       "<tr>\n",
       "  <th>const</th>      <td>    5.2626</td> <td>    2.919</td> <td>    1.803</td> <td> 0.071</td> <td>   -0.458</td> <td>   10.983</td>\n",
       "</tr>\n",
       "<tr>\n",
       "  <th>school</th>     <td>    0.2258</td> <td>    0.545</td> <td>    0.415</td> <td> 0.678</td> <td>   -0.841</td> <td>    1.293</td>\n",
       "</tr>\n",
       "<tr>\n",
       "  <th>sex</th>        <td>    0.5340</td> <td>    0.381</td> <td>    1.403</td> <td> 0.161</td> <td>   -0.212</td> <td>    1.280</td>\n",
       "</tr>\n",
       "<tr>\n",
       "  <th>age</th>        <td>   -0.3386</td> <td>    0.151</td> <td>   -2.248</td> <td> 0.025</td> <td>   -0.634</td> <td>   -0.043</td>\n",
       "</tr>\n",
       "<tr>\n",
       "  <th>address</th>    <td>    0.0286</td> <td>    0.402</td> <td>    0.071</td> <td> 0.943</td> <td>   -0.759</td> <td>    0.817</td>\n",
       "</tr>\n",
       "<tr>\n",
       "  <th>famsize</th>    <td>    0.1232</td> <td>    0.343</td> <td>    0.360</td> <td> 0.719</td> <td>   -0.548</td> <td>    0.795</td>\n",
       "</tr>\n",
       "<tr>\n",
       "  <th>Pstatus</th>    <td>   -0.5100</td> <td>    0.543</td> <td>   -0.939</td> <td> 0.348</td> <td>   -1.574</td> <td>    0.554</td>\n",
       "</tr>\n",
       "<tr>\n",
       "  <th>Medu</th>       <td>    0.1859</td> <td>    0.203</td> <td>    0.915</td> <td> 0.360</td> <td>   -0.212</td> <td>    0.584</td>\n",
       "</tr>\n",
       "<tr>\n",
       "  <th>Fedu</th>       <td>   -0.0157</td> <td>    0.185</td> <td>   -0.085</td> <td> 0.932</td> <td>   -0.379</td> <td>    0.348</td>\n",
       "</tr>\n",
       "<tr>\n",
       "  <th>Mjob</th>       <td>   -0.1483</td> <td>    0.140</td> <td>   -1.056</td> <td> 0.291</td> <td>   -0.424</td> <td>    0.127</td>\n",
       "</tr>\n",
       "<tr>\n",
       "  <th>Fjob</th>       <td>    0.0825</td> <td>    0.175</td> <td>    0.472</td> <td> 0.637</td> <td>   -0.260</td> <td>    0.425</td>\n",
       "</tr>\n",
       "<tr>\n",
       "  <th>reason</th>     <td>    0.2599</td> <td>    0.133</td> <td>    1.954</td> <td> 0.051</td> <td>   -0.001</td> <td>    0.521</td>\n",
       "</tr>\n",
       "<tr>\n",
       "  <th>guardian</th>   <td>    0.2789</td> <td>    0.302</td> <td>    0.923</td> <td> 0.356</td> <td>   -0.314</td> <td>    0.871</td>\n",
       "</tr>\n",
       "<tr>\n",
       "  <th>traveltime</th> <td>    0.0849</td> <td>    0.232</td> <td>    0.365</td> <td> 0.715</td> <td>   -0.371</td> <td>    0.540</td>\n",
       "</tr>\n",
       "<tr>\n",
       "  <th>studytime</th>  <td>    0.1998</td> <td>    0.224</td> <td>    0.891</td> <td> 0.373</td> <td>   -0.240</td> <td>    0.639</td>\n",
       "</tr>\n",
       "<tr>\n",
       "  <th>failures</th>   <td>   -0.8351</td> <td>    0.226</td> <td>   -3.697</td> <td> 0.000</td> <td>   -1.278</td> <td>   -0.392</td>\n",
       "</tr>\n",
       "<tr>\n",
       "  <th>schoolsup</th>  <td>   -0.6593</td> <td>    0.422</td> <td>   -1.563</td> <td> 0.118</td> <td>   -1.486</td> <td>    0.168</td>\n",
       "</tr>\n",
       "<tr>\n",
       "  <th>famsup</th>     <td>   -0.9363</td> <td>    0.354</td> <td>   -2.648</td> <td> 0.008</td> <td>   -1.629</td> <td>   -0.243</td>\n",
       "</tr>\n",
       "<tr>\n",
       "  <th>paid</th>       <td>    0.5945</td> <td>    0.341</td> <td>    1.741</td> <td> 0.082</td> <td>   -0.075</td> <td>    1.264</td>\n",
       "</tr>\n",
       "<tr>\n",
       "  <th>activities</th> <td>   -0.2507</td> <td>    0.323</td> <td>   -0.775</td> <td> 0.438</td> <td>   -0.885</td> <td>    0.383</td>\n",
       "</tr>\n",
       "<tr>\n",
       "  <th>nursery</th>    <td>   -0.4379</td> <td>    0.404</td> <td>   -1.083</td> <td> 0.279</td> <td>   -1.231</td> <td>    0.355</td>\n",
       "</tr>\n",
       "<tr>\n",
       "  <th>higher</th>     <td>    1.3132</td> <td>    0.677</td> <td>    1.939</td> <td> 0.052</td> <td>   -0.014</td> <td>    2.640</td>\n",
       "</tr>\n",
       "<tr>\n",
       "  <th>internet</th>   <td>    0.3182</td> <td>    0.410</td> <td>    0.776</td> <td> 0.438</td> <td>   -0.485</td> <td>    1.122</td>\n",
       "</tr>\n",
       "<tr>\n",
       "  <th>romantic</th>   <td>   -0.1439</td> <td>    0.321</td> <td>   -0.448</td> <td> 0.654</td> <td>   -0.774</td> <td>    0.486</td>\n",
       "</tr>\n",
       "<tr>\n",
       "  <th>famrel</th>     <td>    0.1946</td> <td>    0.186</td> <td>    1.048</td> <td> 0.295</td> <td>   -0.169</td> <td>    0.558</td>\n",
       "</tr>\n",
       "<tr>\n",
       "  <th>freetime</th>   <td>    0.1723</td> <td>    0.162</td> <td>    1.062</td> <td> 0.288</td> <td>   -0.146</td> <td>    0.490</td>\n",
       "</tr>\n",
       "<tr>\n",
       "  <th>goout</th>      <td>   -0.5069</td> <td>    0.163</td> <td>   -3.109</td> <td> 0.002</td> <td>   -0.826</td> <td>   -0.187</td>\n",
       "</tr>\n",
       "<tr>\n",
       "  <th>Dalc</th>       <td>   -0.0682</td> <td>    0.223</td> <td>   -0.306</td> <td> 0.760</td> <td>   -0.505</td> <td>    0.369</td>\n",
       "</tr>\n",
       "<tr>\n",
       "  <th>Walc</th>       <td>    0.1349</td> <td>    0.173</td> <td>    0.780</td> <td> 0.436</td> <td>   -0.204</td> <td>    0.474</td>\n",
       "</tr>\n",
       "<tr>\n",
       "  <th>health</th>     <td>   -0.0194</td> <td>    0.113</td> <td>   -0.172</td> <td> 0.863</td> <td>   -0.240</td> <td>    0.201</td>\n",
       "</tr>\n",
       "<tr>\n",
       "  <th>absences</th>   <td>   -0.0165</td> <td>    0.017</td> <td>   -0.976</td> <td> 0.329</td> <td>   -0.050</td> <td>    0.017</td>\n",
       "</tr>\n",
       "</table>"
      ],
      "text/plain": [
       "<class 'statsmodels.iolib.summary.Summary'>\n",
       "\"\"\"\n",
       "                           Logit Regression Results                           \n",
       "==============================================================================\n",
       "Dep. Variable:                     G3   No. Observations:                  296\n",
       "Model:                          Logit   Df Residuals:                      265\n",
       "Method:                           MLE   Df Model:                           30\n",
       "Date:                Sat, 28 Jan 2023   Pseudo R-squ.:                  0.2096\n",
       "Time:                        11:06:19   Log-Likelihood:                -146.24\n",
       "converged:                       True   LL-Null:                       -185.01\n",
       "Covariance Type:            nonrobust   LLR p-value:                 4.437e-06\n",
       "==============================================================================\n",
       "                 coef    std err          z      P>|z|      [0.025      0.975]\n",
       "------------------------------------------------------------------------------\n",
       "const          5.2626      2.919      1.803      0.071      -0.458      10.983\n",
       "school         0.2258      0.545      0.415      0.678      -0.841       1.293\n",
       "sex            0.5340      0.381      1.403      0.161      -0.212       1.280\n",
       "age           -0.3386      0.151     -2.248      0.025      -0.634      -0.043\n",
       "address        0.0286      0.402      0.071      0.943      -0.759       0.817\n",
       "famsize        0.1232      0.343      0.360      0.719      -0.548       0.795\n",
       "Pstatus       -0.5100      0.543     -0.939      0.348      -1.574       0.554\n",
       "Medu           0.1859      0.203      0.915      0.360      -0.212       0.584\n",
       "Fedu          -0.0157      0.185     -0.085      0.932      -0.379       0.348\n",
       "Mjob          -0.1483      0.140     -1.056      0.291      -0.424       0.127\n",
       "Fjob           0.0825      0.175      0.472      0.637      -0.260       0.425\n",
       "reason         0.2599      0.133      1.954      0.051      -0.001       0.521\n",
       "guardian       0.2789      0.302      0.923      0.356      -0.314       0.871\n",
       "traveltime     0.0849      0.232      0.365      0.715      -0.371       0.540\n",
       "studytime      0.1998      0.224      0.891      0.373      -0.240       0.639\n",
       "failures      -0.8351      0.226     -3.697      0.000      -1.278      -0.392\n",
       "schoolsup     -0.6593      0.422     -1.563      0.118      -1.486       0.168\n",
       "famsup        -0.9363      0.354     -2.648      0.008      -1.629      -0.243\n",
       "paid           0.5945      0.341      1.741      0.082      -0.075       1.264\n",
       "activities    -0.2507      0.323     -0.775      0.438      -0.885       0.383\n",
       "nursery       -0.4379      0.404     -1.083      0.279      -1.231       0.355\n",
       "higher         1.3132      0.677      1.939      0.052      -0.014       2.640\n",
       "internet       0.3182      0.410      0.776      0.438      -0.485       1.122\n",
       "romantic      -0.1439      0.321     -0.448      0.654      -0.774       0.486\n",
       "famrel         0.1946      0.186      1.048      0.295      -0.169       0.558\n",
       "freetime       0.1723      0.162      1.062      0.288      -0.146       0.490\n",
       "goout         -0.5069      0.163     -3.109      0.002      -0.826      -0.187\n",
       "Dalc          -0.0682      0.223     -0.306      0.760      -0.505       0.369\n",
       "Walc           0.1349      0.173      0.780      0.436      -0.204       0.474\n",
       "health        -0.0194      0.113     -0.172      0.863      -0.240       0.201\n",
       "absences      -0.0165      0.017     -0.976      0.329      -0.050       0.017\n",
       "==============================================================================\n",
       "\"\"\""
      ]
     },
     "execution_count": 32,
     "metadata": {},
     "output_type": "execute_result"
    }
   ],
   "source": [
    "import statsmodels.formula.api as smf\n",
    "import statsmodels.api as sm\n",
    "import pandas as pd\n",
    "\n",
    "data = pd.read_csv(\"https://github.com/dustywhite7/pythonMikkeli/raw/master/exampleData/passFailTrain.csv\")\n",
    "x = data.drop(columns=['Unnamed: 0', 'G1', 'G2', 'G3'])\n",
    "x = sm.add_constant(x)\n",
    "y = data['G3']\n",
    "\n",
    "reg = sm.Logit(y, x).fit()\n",
    "reg.summary()"
   ]
  },
  {
   "cell_type": "code",
   "execution_count": 28,
   "metadata": {},
   "outputs": [
    {
     "data": {
      "text/html": [
       "<div>\n",
       "<style scoped>\n",
       "    .dataframe tbody tr th:only-of-type {\n",
       "        vertical-align: middle;\n",
       "    }\n",
       "\n",
       "    .dataframe tbody tr th {\n",
       "        vertical-align: top;\n",
       "    }\n",
       "\n",
       "    .dataframe thead th {\n",
       "        text-align: right;\n",
       "    }\n",
       "</style>\n",
       "<table border=\"1\" class=\"dataframe\">\n",
       "  <thead>\n",
       "    <tr style=\"text-align: right;\">\n",
       "      <th></th>\n",
       "      <th>feature</th>\n",
       "      <th>VIF</th>\n",
       "    </tr>\n",
       "  </thead>\n",
       "  <tbody>\n",
       "    <tr>\n",
       "      <th>0</th>\n",
       "      <td>const</td>\n",
       "      <td>395.226396</td>\n",
       "    </tr>\n",
       "    <tr>\n",
       "      <th>1</th>\n",
       "      <td>school</td>\n",
       "      <td>1.343139</td>\n",
       "    </tr>\n",
       "    <tr>\n",
       "      <th>2</th>\n",
       "      <td>sex</td>\n",
       "      <td>1.494889</td>\n",
       "    </tr>\n",
       "    <tr>\n",
       "      <th>3</th>\n",
       "      <td>age</td>\n",
       "      <td>1.595037</td>\n",
       "    </tr>\n",
       "    <tr>\n",
       "      <th>4</th>\n",
       "      <td>address</td>\n",
       "      <td>1.262928</td>\n",
       "    </tr>\n",
       "    <tr>\n",
       "      <th>5</th>\n",
       "      <td>famsize</td>\n",
       "      <td>1.139231</td>\n",
       "    </tr>\n",
       "    <tr>\n",
       "      <th>6</th>\n",
       "      <td>Pstatus</td>\n",
       "      <td>1.178782</td>\n",
       "    </tr>\n",
       "    <tr>\n",
       "      <th>7</th>\n",
       "      <td>Medu</td>\n",
       "      <td>2.235044</td>\n",
       "    </tr>\n",
       "    <tr>\n",
       "      <th>8</th>\n",
       "      <td>Fedu</td>\n",
       "      <td>1.891042</td>\n",
       "    </tr>\n",
       "    <tr>\n",
       "      <th>9</th>\n",
       "      <td>Mjob</td>\n",
       "      <td>1.422739</td>\n",
       "    </tr>\n",
       "    <tr>\n",
       "      <th>10</th>\n",
       "      <td>Fjob</td>\n",
       "      <td>1.209714</td>\n",
       "    </tr>\n",
       "    <tr>\n",
       "      <th>11</th>\n",
       "      <td>reason</td>\n",
       "      <td>1.166145</td>\n",
       "    </tr>\n",
       "    <tr>\n",
       "      <th>12</th>\n",
       "      <td>guardian</td>\n",
       "      <td>1.222901</td>\n",
       "    </tr>\n",
       "    <tr>\n",
       "      <th>13</th>\n",
       "      <td>traveltime</td>\n",
       "      <td>1.233043</td>\n",
       "    </tr>\n",
       "    <tr>\n",
       "      <th>14</th>\n",
       "      <td>studytime</td>\n",
       "      <td>1.399763</td>\n",
       "    </tr>\n",
       "    <tr>\n",
       "      <th>15</th>\n",
       "      <td>failures</td>\n",
       "      <td>1.301907</td>\n",
       "    </tr>\n",
       "    <tr>\n",
       "      <th>16</th>\n",
       "      <td>schoolsup</td>\n",
       "      <td>1.180936</td>\n",
       "    </tr>\n",
       "    <tr>\n",
       "      <th>17</th>\n",
       "      <td>famsup</td>\n",
       "      <td>1.283395</td>\n",
       "    </tr>\n",
       "    <tr>\n",
       "      <th>18</th>\n",
       "      <td>paid</td>\n",
       "      <td>1.315091</td>\n",
       "    </tr>\n",
       "    <tr>\n",
       "      <th>19</th>\n",
       "      <td>activities</td>\n",
       "      <td>1.212106</td>\n",
       "    </tr>\n",
       "    <tr>\n",
       "      <th>20</th>\n",
       "      <td>nursery</td>\n",
       "      <td>1.137021</td>\n",
       "    </tr>\n",
       "    <tr>\n",
       "      <th>21</th>\n",
       "      <td>higher</td>\n",
       "      <td>1.322110</td>\n",
       "    </tr>\n",
       "    <tr>\n",
       "      <th>22</th>\n",
       "      <td>internet</td>\n",
       "      <td>1.192673</td>\n",
       "    </tr>\n",
       "    <tr>\n",
       "      <th>23</th>\n",
       "      <td>romantic</td>\n",
       "      <td>1.137490</td>\n",
       "    </tr>\n",
       "    <tr>\n",
       "      <th>24</th>\n",
       "      <td>famrel</td>\n",
       "      <td>1.174369</td>\n",
       "    </tr>\n",
       "    <tr>\n",
       "      <th>25</th>\n",
       "      <td>freetime</td>\n",
       "      <td>1.306638</td>\n",
       "    </tr>\n",
       "    <tr>\n",
       "      <th>26</th>\n",
       "      <td>goout</td>\n",
       "      <td>1.566735</td>\n",
       "    </tr>\n",
       "    <tr>\n",
       "      <th>27</th>\n",
       "      <td>Dalc</td>\n",
       "      <td>1.874365</td>\n",
       "    </tr>\n",
       "    <tr>\n",
       "      <th>28</th>\n",
       "      <td>Walc</td>\n",
       "      <td>2.405479</td>\n",
       "    </tr>\n",
       "    <tr>\n",
       "      <th>29</th>\n",
       "      <td>health</td>\n",
       "      <td>1.154962</td>\n",
       "    </tr>\n",
       "    <tr>\n",
       "      <th>30</th>\n",
       "      <td>absences</td>\n",
       "      <td>1.233683</td>\n",
       "    </tr>\n",
       "  </tbody>\n",
       "</table>\n",
       "</div>"
      ],
      "text/plain": [
       "       feature         VIF\n",
       "0        const  395.226396\n",
       "1       school    1.343139\n",
       "2          sex    1.494889\n",
       "3          age    1.595037\n",
       "4      address    1.262928\n",
       "5      famsize    1.139231\n",
       "6      Pstatus    1.178782\n",
       "7         Medu    2.235044\n",
       "8         Fedu    1.891042\n",
       "9         Mjob    1.422739\n",
       "10        Fjob    1.209714\n",
       "11      reason    1.166145\n",
       "12    guardian    1.222901\n",
       "13  traveltime    1.233043\n",
       "14   studytime    1.399763\n",
       "15    failures    1.301907\n",
       "16   schoolsup    1.180936\n",
       "17      famsup    1.283395\n",
       "18        paid    1.315091\n",
       "19  activities    1.212106\n",
       "20     nursery    1.137021\n",
       "21      higher    1.322110\n",
       "22    internet    1.192673\n",
       "23    romantic    1.137490\n",
       "24      famrel    1.174369\n",
       "25    freetime    1.306638\n",
       "26       goout    1.566735\n",
       "27        Dalc    1.874365\n",
       "28        Walc    2.405479\n",
       "29      health    1.154962\n",
       "30    absences    1.233683"
      ]
     },
     "execution_count": 28,
     "metadata": {},
     "output_type": "execute_result"
    }
   ],
   "source": [
    "from statsmodels.stats.outliers_influence import variance_inflation_factor\n",
    "vif_data = pd.DataFrame()\n",
    "vif_data[\"feature\"] = x.columns\n",
    "vif_data[\"VIF\"] = [variance_inflation_factor(x.values, i) for i in range(len(x.columns))]\n",
    "vif_data"
   ]
  }
 ],
 "metadata": {
  "kernelspec": {
   "display_name": "uno-env",
   "language": "python",
   "name": "python3"
  },
  "language_info": {
   "codemirror_mode": {
    "name": "ipython",
    "version": 3
   },
   "file_extension": ".py",
   "mimetype": "text/x-python",
   "name": "python",
   "nbconvert_exporter": "python",
   "pygments_lexer": "ipython3",
   "version": "3.10.9 | packaged by conda-forge | (main, Jan 11 2023, 15:15:40) [MSC v.1916 64 bit (AMD64)]"
  },
  "orig_nbformat": 4,
  "vscode": {
   "interpreter": {
    "hash": "ca12af73519fa15556b285f43a6baf7d4dae12afe7f50e196fb64fccb163562d"
   }
  }
 },
 "nbformat": 4,
 "nbformat_minor": 2
}
