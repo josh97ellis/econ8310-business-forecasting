{
 "cells": [
  {
   "attachments": {},
   "cell_type": "markdown",
   "metadata": {},
   "source": [
    "# Generalized Additive Models (GAMs)"
   ]
  },
  {
   "attachments": {},
   "cell_type": "markdown",
   "metadata": {},
   "source": [
    "### **Lienar and Nonlinear Models**"
   ]
  },
  {
   "attachments": {},
   "cell_type": "markdown",
   "metadata": {},
   "source": [
    "##### **Linear Models (ARIMA and VAR)**\n",
    "- Make strong assumptions about the relationships between dependent and independent variables\n",
    "- But they are easily interpretable\n",
    "\n",
    "##### **Non-linear models**\n",
    "- Reduce (or eliminate) these assumptions\n",
    "- But this isoften done at the cost of interpretability"
   ]
  },
  {
   "attachments": {},
   "cell_type": "markdown",
   "metadata": {},
   "source": [
    "### **Non-Linear Modeling**\n",
    "Non-linear models can be written generally as\n",
    "- $y = g(x) + \\epsilon$\n",
    "\n",
    "where $g(.)$ can be any function\n",
    "- Tremendous flexibility\n",
    "- Low likelihood of interpretability"
   ]
  },
  {
   "attachments": {},
   "cell_type": "markdown",
   "metadata": {},
   "source": [
    "### **Generalized Additive Models**\n",
    "GAMs allow us much of the flexibility of non-linear models, without the difficulty of interpretation.\n",
    "- Each parameter's effect on the dependent variable is modeled as its own function.\n",
    "- Since the model is additive, interpretation is straightforward, and parameter effects can be isolated\n",
    "    - Features are additively seperatable, therefore the slope in each direction is not affected by any other slope\n",
    "    - Each function corresponds to one and only one exogenous regressor\n",
    "\n",
    "In a GAM, y is equal to an additive sequence of functions\n",
    "$$\n",
    "y = \\sum^n_{i=1} f_i(x_i) + \\epsilon\n",
    "$$\n",
    "For two parameters, this could be expressed as\n",
    "$$\n",
    "y = f_1(x1) + f_2(x_2) + \\epsilon\n",
    "$$"
   ]
  },
  {
   "attachments": {},
   "cell_type": "markdown",
   "metadata": {},
   "source": [
    "### **Non-linearity and Smoothness**\n",
    "- With GAMs, take care not to overfit your model\n",
    "- Our true test will be when we fit a model, and use it to make predictions out-of-sample\n",
    "- In sample, we can never do worse by applying a more complex function form\n",
    "- Out of sample, excess complexity can ruin our predictions"
   ]
  },
  {
   "attachments": {},
   "cell_type": "markdown",
   "metadata": {},
   "source": [
    "### GAM Fitting Procedure\n",
    "If we want to fit an additive model, we need to create a loss function that we can optimize. For one parameter, we need to optimize \n",
    "$$\n",
    "y = a + f(x) + \\epsilon\n",
    "$$"
   ]
  },
  {
   "attachments": {},
   "cell_type": "markdown",
   "metadata": {},
   "source": [
    "### Choosing GAM Smoothness\n",
    "In addition to minimizing the SSE term, we need to include a term that will regulate how smooth our function is, penalizing our model for \"less smooth\" functional forms"
   ]
  },
  {
   "cell_type": "code",
   "execution_count": 4,
   "metadata": {},
   "outputs": [],
   "source": [
    "from pygam import LinearGAM, s, f, l\n",
    "import pandas as pd\n",
    "import patsy as pt\n",
    "import numpy as np\n",
    "from plotly import tools\n",
    "import plotly.offline as py\n",
    "import plotly.graph_objs as go\n",
    "\n",
    "data = pd.read_csv('https://github.com/dustywhite7/Econ8310/raw/master/DataSets/HappinessWorld.csv')"
   ]
  },
  {
   "cell_type": "code",
   "execution_count": 16,
   "metadata": {},
   "outputs": [
    {
     "name": "stderr",
     "output_type": "stream",
     "text": [
      "  0% (0 of 11) |                         | Elapsed Time: 0:00:00 ETA:  --:--:--\n"
     ]
    },
    {
     "ename": "AttributeError",
     "evalue": "module 'numpy' has no attribute 'int'",
     "output_type": "error",
     "traceback": [
      "\u001b[1;31m---------------------------------------------------------------------------\u001b[0m",
      "\u001b[1;31mAttributeError\u001b[0m                            Traceback (most recent call last)",
      "Cell \u001b[1;32mIn[16], line 6\u001b[0m\n\u001b[0;32m      4\u001b[0m \u001b[39m# Initialize and fit model\u001b[39;00m\n\u001b[0;32m      5\u001b[0m gam \u001b[39m=\u001b[39m LinearGAM(s(\u001b[39m0\u001b[39m) \u001b[39m+\u001b[39m s(\u001b[39m1\u001b[39m) \u001b[39m+\u001b[39m s(\u001b[39m2\u001b[39m) \u001b[39m+\u001b[39m s(\u001b[39m3\u001b[39m) \u001b[39m+\u001b[39m s(\u001b[39m4\u001b[39m) \u001b[39m+\u001b[39m s(\u001b[39m5\u001b[39m))\n\u001b[1;32m----> 6\u001b[0m gam \u001b[39m=\u001b[39m gam\u001b[39m.\u001b[39;49mgridsearch(x, y)\n",
      "File \u001b[1;32mc:\\Users\\Josh Ellis\\Anaconda3\\envs\\uno-env\\lib\\site-packages\\pygam\\pygam.py:1894\u001b[0m, in \u001b[0;36mGAM.gridsearch\u001b[1;34m(self, X, y, weights, return_scores, keep_best, objective, progress, **param_grids)\u001b[0m\n\u001b[0;32m   1892\u001b[0m         coef \u001b[39m=\u001b[39m models[\u001b[39m-\u001b[39m\u001b[39m1\u001b[39m]\u001b[39m.\u001b[39mcoef_\n\u001b[0;32m   1893\u001b[0m         gam\u001b[39m.\u001b[39mset_params(coef_\u001b[39m=\u001b[39mcoef, force\u001b[39m=\u001b[39m\u001b[39mTrue\u001b[39;00m, verbose\u001b[39m=\u001b[39m\u001b[39mFalse\u001b[39;00m)\n\u001b[1;32m-> 1894\u001b[0m     gam\u001b[39m.\u001b[39;49mfit(X, y, weights)\n\u001b[0;32m   1896\u001b[0m \u001b[39mexcept\u001b[39;00m \u001b[39mValueError\u001b[39;00m \u001b[39mas\u001b[39;00m error:\n\u001b[0;32m   1897\u001b[0m     msg \u001b[39m=\u001b[39m \u001b[39mstr\u001b[39m(error) \u001b[39m+\u001b[39m \u001b[39m'\u001b[39m\u001b[39m\\n\u001b[39;00m\u001b[39mon model with params:\u001b[39m\u001b[39m\\n\u001b[39;00m\u001b[39m'\u001b[39m \u001b[39m+\u001b[39m \u001b[39mstr\u001b[39m(param_grid)\n",
      "File \u001b[1;32mc:\\Users\\Josh Ellis\\Anaconda3\\envs\\uno-env\\lib\\site-packages\\pygam\\pygam.py:920\u001b[0m, in \u001b[0;36mGAM.fit\u001b[1;34m(self, X, y, weights)\u001b[0m\n\u001b[0;32m    917\u001b[0m \u001b[39mself\u001b[39m\u001b[39m.\u001b[39mstatistics_[\u001b[39m'\u001b[39m\u001b[39mm_features\u001b[39m\u001b[39m'\u001b[39m] \u001b[39m=\u001b[39m X\u001b[39m.\u001b[39mshape[\u001b[39m1\u001b[39m]\n\u001b[0;32m    919\u001b[0m \u001b[39m# optimize\u001b[39;00m\n\u001b[1;32m--> 920\u001b[0m \u001b[39mself\u001b[39;49m\u001b[39m.\u001b[39;49m_pirls(X, y, weights)\n\u001b[0;32m    921\u001b[0m \u001b[39m# if self._opt == 0:\u001b[39;00m\n\u001b[0;32m    922\u001b[0m \u001b[39m#     self._pirls(X, y, weights)\u001b[39;00m\n\u001b[0;32m    923\u001b[0m \u001b[39m# if self._opt == 1:\u001b[39;00m\n\u001b[0;32m    924\u001b[0m \u001b[39m#     self._pirls_naive(X, y)\u001b[39;00m\n\u001b[0;32m    925\u001b[0m \u001b[39mreturn\u001b[39;00m \u001b[39mself\u001b[39m\n",
      "File \u001b[1;32mc:\\Users\\Josh Ellis\\Anaconda3\\envs\\uno-env\\lib\\site-packages\\pygam\\pygam.py:686\u001b[0m, in \u001b[0;36mGAM._pirls\u001b[1;34m(self, X, Y, weights)\u001b[0m\n\u001b[0;32m    669\u001b[0m \u001b[39mdef\u001b[39;00m \u001b[39m_pirls\u001b[39m(\u001b[39mself\u001b[39m, X, Y, weights):\n\u001b[0;32m    670\u001b[0m     \u001b[39m\"\"\"\u001b[39;00m\n\u001b[0;32m    671\u001b[0m \u001b[39m    Performs stable PIRLS iterations to estimate GAM coefficients\u001b[39;00m\n\u001b[0;32m    672\u001b[0m \n\u001b[1;32m   (...)\u001b[0m\n\u001b[0;32m    684\u001b[0m \u001b[39m    None\u001b[39;00m\n\u001b[0;32m    685\u001b[0m \u001b[39m    \"\"\"\u001b[39;00m\n\u001b[1;32m--> 686\u001b[0m     modelmat \u001b[39m=\u001b[39m \u001b[39mself\u001b[39;49m\u001b[39m.\u001b[39;49m_modelmat(X) \u001b[39m# build a basis matrix for the GLM\u001b[39;00m\n\u001b[0;32m    687\u001b[0m     n, m \u001b[39m=\u001b[39m modelmat\u001b[39m.\u001b[39mshape\n\u001b[0;32m    689\u001b[0m     \u001b[39m# initialize GLM coefficients if model is not yet fitted\u001b[39;00m\n",
      "File \u001b[1;32mc:\\Users\\Josh Ellis\\Anaconda3\\envs\\uno-env\\lib\\site-packages\\pygam\\pygam.py:459\u001b[0m, in \u001b[0;36mGAM._modelmat\u001b[1;34m(self, X, term)\u001b[0m\n\u001b[0;32m    437\u001b[0m \u001b[39m\"\"\"\u001b[39;00m\n\u001b[0;32m    438\u001b[0m \u001b[39mBuilds a model matrix, B, out of the spline basis for each feature\u001b[39;00m\n\u001b[0;32m    439\u001b[0m \n\u001b[1;32m   (...)\u001b[0m\n\u001b[0;32m    453\u001b[0m \u001b[39m    containing model matrix of the spline basis for selected features\u001b[39;00m\n\u001b[0;32m    454\u001b[0m \u001b[39m\"\"\"\u001b[39;00m\n\u001b[0;32m    455\u001b[0m X \u001b[39m=\u001b[39m check_X(X, n_feats\u001b[39m=\u001b[39m\u001b[39mself\u001b[39m\u001b[39m.\u001b[39mstatistics_[\u001b[39m'\u001b[39m\u001b[39mm_features\u001b[39m\u001b[39m'\u001b[39m],\n\u001b[0;32m    456\u001b[0m             edge_knots\u001b[39m=\u001b[39m\u001b[39mself\u001b[39m\u001b[39m.\u001b[39medge_knots_, dtypes\u001b[39m=\u001b[39m\u001b[39mself\u001b[39m\u001b[39m.\u001b[39mdtype,\n\u001b[0;32m    457\u001b[0m             features\u001b[39m=\u001b[39m\u001b[39mself\u001b[39m\u001b[39m.\u001b[39mfeature, verbose\u001b[39m=\u001b[39m\u001b[39mself\u001b[39m\u001b[39m.\u001b[39mverbose)\n\u001b[1;32m--> 459\u001b[0m \u001b[39mreturn\u001b[39;00m \u001b[39mself\u001b[39;49m\u001b[39m.\u001b[39;49mterms\u001b[39m.\u001b[39;49mbuild_columns(X, term\u001b[39m=\u001b[39;49mterm)\n",
      "File \u001b[1;32mc:\\Users\\Josh Ellis\\Anaconda3\\envs\\uno-env\\lib\\site-packages\\pygam\\terms.py:1719\u001b[0m, in \u001b[0;36mTermList.build_columns\u001b[1;34m(self, X, term, verbose)\u001b[0m\n\u001b[0;32m   1717\u001b[0m columns \u001b[39m=\u001b[39m []\n\u001b[0;32m   1718\u001b[0m \u001b[39mfor\u001b[39;00m term_id \u001b[39min\u001b[39;00m term:\n\u001b[1;32m-> 1719\u001b[0m     columns\u001b[39m.\u001b[39mappend(\u001b[39mself\u001b[39;49m\u001b[39m.\u001b[39;49m_terms[term_id]\u001b[39m.\u001b[39;49mbuild_columns(X, verbose\u001b[39m=\u001b[39;49mverbose))\n\u001b[0;32m   1720\u001b[0m \u001b[39mreturn\u001b[39;00m sp\u001b[39m.\u001b[39msparse\u001b[39m.\u001b[39mhstack(columns, \u001b[39mformat\u001b[39m\u001b[39m=\u001b[39m\u001b[39m'\u001b[39m\u001b[39mcsc\u001b[39m\u001b[39m'\u001b[39m)\n",
      "File \u001b[1;32mc:\\Users\\Josh Ellis\\Anaconda3\\envs\\uno-env\\lib\\site-packages\\pygam\\terms.py:784\u001b[0m, in \u001b[0;36mSplineTerm.build_columns\u001b[1;34m(self, X, verbose)\u001b[0m\n\u001b[0;32m    768\u001b[0m \u001b[39m\"\"\"construct the model matrix columns for the term\u001b[39;00m\n\u001b[0;32m    769\u001b[0m \n\u001b[0;32m    770\u001b[0m \u001b[39mParameters\u001b[39;00m\n\u001b[1;32m   (...)\u001b[0m\n\u001b[0;32m    780\u001b[0m \u001b[39mscipy sparse array with n rows\u001b[39;00m\n\u001b[0;32m    781\u001b[0m \u001b[39m\"\"\"\u001b[39;00m\n\u001b[0;32m    782\u001b[0m X[:, \u001b[39mself\u001b[39m\u001b[39m.\u001b[39mfeature][:, np\u001b[39m.\u001b[39mnewaxis]\n\u001b[1;32m--> 784\u001b[0m splines \u001b[39m=\u001b[39m b_spline_basis(X[:, \u001b[39mself\u001b[39;49m\u001b[39m.\u001b[39;49mfeature],\n\u001b[0;32m    785\u001b[0m                          edge_knots\u001b[39m=\u001b[39;49m\u001b[39mself\u001b[39;49m\u001b[39m.\u001b[39;49medge_knots_,\n\u001b[0;32m    786\u001b[0m                          spline_order\u001b[39m=\u001b[39;49m\u001b[39mself\u001b[39;49m\u001b[39m.\u001b[39;49mspline_order,\n\u001b[0;32m    787\u001b[0m                          n_splines\u001b[39m=\u001b[39;49m\u001b[39mself\u001b[39;49m\u001b[39m.\u001b[39;49mn_splines,\n\u001b[0;32m    788\u001b[0m                          sparse\u001b[39m=\u001b[39;49m\u001b[39mTrue\u001b[39;49;00m,\n\u001b[0;32m    789\u001b[0m                          periodic\u001b[39m=\u001b[39;49m\u001b[39mself\u001b[39;49m\u001b[39m.\u001b[39;49mbasis \u001b[39min\u001b[39;49;00m [\u001b[39m'\u001b[39;49m\u001b[39mcp\u001b[39;49m\u001b[39m'\u001b[39;49m],\n\u001b[0;32m    790\u001b[0m                          verbose\u001b[39m=\u001b[39;49mverbose)\n\u001b[0;32m    792\u001b[0m \u001b[39mif\u001b[39;00m \u001b[39mself\u001b[39m\u001b[39m.\u001b[39mby \u001b[39mis\u001b[39;00m \u001b[39mnot\u001b[39;00m \u001b[39mNone\u001b[39;00m:\n\u001b[0;32m    793\u001b[0m     splines \u001b[39m=\u001b[39m splines\u001b[39m.\u001b[39mmultiply(X[:, \u001b[39mself\u001b[39m\u001b[39m.\u001b[39mby][:, np\u001b[39m.\u001b[39mnewaxis])\n",
      "File \u001b[1;32mc:\\Users\\Josh Ellis\\Anaconda3\\envs\\uno-env\\lib\\site-packages\\pygam\\utils.py:649\u001b[0m, in \u001b[0;36mb_spline_basis\u001b[1;34m(x, edge_knots, n_splines, spline_order, sparse, periodic, verbose)\u001b[0m\n\u001b[0;32m    646\u001b[0m aug_knots[\u001b[39m-\u001b[39m\u001b[39m1\u001b[39m] \u001b[39m+\u001b[39m\u001b[39m=\u001b[39m \u001b[39m1e-9\u001b[39m \u001b[39m# want last knot inclusive\u001b[39;00m\n\u001b[0;32m    648\u001b[0m \u001b[39m# prepare Haar Basis\u001b[39;00m\n\u001b[1;32m--> 649\u001b[0m bases \u001b[39m=\u001b[39m (x \u001b[39m>\u001b[39m\u001b[39m=\u001b[39m aug_knots[:\u001b[39m-\u001b[39m\u001b[39m1\u001b[39m])\u001b[39m.\u001b[39mastype(np\u001b[39m.\u001b[39;49mint) \u001b[39m*\u001b[39m \\\n\u001b[0;32m    650\u001b[0m         (x \u001b[39m<\u001b[39m aug_knots[\u001b[39m1\u001b[39m:])\u001b[39m.\u001b[39mastype(np\u001b[39m.\u001b[39mint)\n\u001b[0;32m    651\u001b[0m bases[\u001b[39m-\u001b[39m\u001b[39m1\u001b[39m] \u001b[39m=\u001b[39m bases[\u001b[39m-\u001b[39m\u001b[39m2\u001b[39m][::\u001b[39m-\u001b[39m\u001b[39m1\u001b[39m] \u001b[39m# force symmetric bases at 0 and 1\u001b[39;00m\n\u001b[0;32m    653\u001b[0m \u001b[39m# do recursion from Hastie et al. vectorized\u001b[39;00m\n",
      "File \u001b[1;32mc:\\Users\\Josh Ellis\\Anaconda3\\envs\\uno-env\\lib\\site-packages\\numpy\\__init__.py:284\u001b[0m, in \u001b[0;36m__getattr__\u001b[1;34m(attr)\u001b[0m\n\u001b[0;32m    281\u001b[0m     \u001b[39mfrom\u001b[39;00m \u001b[39m.\u001b[39;00m\u001b[39mtesting\u001b[39;00m \u001b[39mimport\u001b[39;00m Tester\n\u001b[0;32m    282\u001b[0m     \u001b[39mreturn\u001b[39;00m Tester\n\u001b[1;32m--> 284\u001b[0m \u001b[39mraise\u001b[39;00m \u001b[39mAttributeError\u001b[39;00m(\u001b[39m\"\u001b[39m\u001b[39mmodule \u001b[39m\u001b[39m{!r}\u001b[39;00m\u001b[39m has no attribute \u001b[39m\u001b[39m\"\u001b[39m\n\u001b[0;32m    285\u001b[0m                      \u001b[39m\"\u001b[39m\u001b[39m{!r}\u001b[39;00m\u001b[39m\"\u001b[39m\u001b[39m.\u001b[39mformat(\u001b[39m__name__\u001b[39m, attr))\n",
      "\u001b[1;31mAttributeError\u001b[0m: module 'numpy' has no attribute 'int'"
     ]
    }
   ],
   "source": [
    "eqn = \"happiness ~ -1 + freedom + family + year + economy + health + trust\"\n",
    "y, x = pt.dmatrices(eqn, data=data)\n",
    "\n",
    "# Initialize and fit model\n",
    "gam = LinearGAM(s(0) + s(1) + s(2) + s(3) + s(4) + s(5))\n",
    "gam = gam.gridsearch(x, y)"
   ]
  },
  {
   "cell_type": "code",
   "execution_count": 10,
   "metadata": {},
   "outputs": [
    {
     "data": {
      "text/plain": [
       "DesignMatrix with shape (470, 6)\n",
       "  freedom   family  year  economy   health    trust\n",
       "  0.66557  1.34951  2015  1.39651  0.94143  0.41978\n",
       "  0.62877  1.40223  2015  1.30232  0.94784  0.14145\n",
       "  0.64938  1.36058  2015  1.32548  0.87464  0.48357\n",
       "  0.66973  1.33095  2015  1.45900  0.88521  0.36503\n",
       "  0.63297  1.32261  2015  1.32629  0.90563  0.32957\n",
       "  0.64169  1.31826  2015  1.29025  0.88911  0.41372\n",
       "  0.61576  1.28017  2015  1.32944  0.89284  0.31814\n",
       "  0.65980  1.28907  2015  1.33171  0.91087  0.43844\n",
       "  0.63938  1.31967  2015  1.25018  0.90837  0.42922\n",
       "  0.65124  1.30923  2015  1.33358  0.93156  0.35637\n",
       "  0.41319  1.22393  2015  1.22857  0.91387  0.07785\n",
       "  0.63376  1.23788  2015  0.95578  0.86027  0.10583\n",
       "  0.62433  1.29704  2015  1.33723  0.89042  0.18676\n",
       "  0.48181  0.91451  2015  1.02054  0.81444  0.21312\n",
       "  0.54604  1.24711  2015  1.39451  0.86179  0.15890\n",
       "  0.49049  1.23287  2015  0.98124  0.69702  0.17521\n",
       "  0.61583  1.21963  2015  1.56391  0.91894  0.37798\n",
       "  0.61777  1.36948  2015  1.33596  0.89533  0.28703\n",
       "  0.58450  1.28566  2015  1.30782  0.89667  0.22540\n",
       "  0.64157  1.12575  2015  1.42727  0.80925  0.38583\n",
       "  0.59625  1.28548  2015  1.26637  0.90943  0.32067\n",
       "  0.63274  1.08182  2015  1.36011  0.76276  0.32524\n",
       "  0.42908  1.25596  2015  1.04424  0.72052  0.11069\n",
       "  0.54252  1.02000  2015  1.52186  1.02525  0.49210\n",
       "  0.54210  1.19850  2015  1.06353  0.79661  0.09270\n",
       "  0.61477  1.29937  2015  1.32792  0.89186  0.21843\n",
       "  0.44132  1.12447  2015  1.10715  0.85857  0.12869\n",
       "  0.64040  1.07860  2015  1.69042  0.79733  0.52208\n",
       "  0.55011  1.26038  2015  1.27778  0.94579  0.20646\n",
       "  0.44974  1.24823  2015  1.05351  0.78723  0.08484\n",
       "  [440 rows omitted]\n",
       "  Terms:\n",
       "    'freedom' (column 0)\n",
       "    'family' (column 1)\n",
       "    'year' (column 2)\n",
       "    'economy' (column 3)\n",
       "    'health' (column 4)\n",
       "    'trust' (column 5)\n",
       "  (to view full data, use np.asarray(this_obj))"
      ]
     },
     "execution_count": 10,
     "metadata": {},
     "output_type": "execute_result"
    }
   ],
   "source": [
    "x"
   ]
  }
 ],
 "metadata": {
  "kernelspec": {
   "display_name": "uno-env",
   "language": "python",
   "name": "python3"
  },
  "language_info": {
   "codemirror_mode": {
    "name": "ipython",
    "version": 3
   },
   "file_extension": ".py",
   "mimetype": "text/x-python",
   "name": "python",
   "nbconvert_exporter": "python",
   "pygments_lexer": "ipython3",
   "version": "3.10.9"
  },
  "orig_nbformat": 4
 },
 "nbformat": 4,
 "nbformat_minor": 2
}
